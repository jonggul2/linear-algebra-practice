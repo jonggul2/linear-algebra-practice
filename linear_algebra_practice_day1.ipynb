{
 "cells": [
  {
   "cell_type": "markdown",
   "id": "80e93d9d",
   "metadata": {
    "cell_marker": "\"\"\""
   },
   "source": [
    "# Linear Algebra and Machine Learning Practice (Day 1)"
   ]
  },
  {
   "cell_type": "markdown",
   "id": "39d2231d",
   "metadata": {
    "cell_marker": "\"\"\""
   },
   "source": [
    "## 목차 (Table of Contents)\n",
    "\n",
    "**준비 과정**\n",
    "- [라이브러리 설치 및 불러오기](#준비하기-라이브러리-설치-및-불러오기)\n",
    "- [MNIST 데이터셋 불러오기](#MNIST-데이터셋-불러오기)\n",
    "\n",
    "**실습 (Practice)**\n",
    "1. [벡터 생성과 기본 속성](#1-벡터-생성과-기본-속성)\n",
    "2. [벡터의 기본 연산](#2-벡터의-기본-연산)\n",
    "3. [벡터의 선형 결합, 내적, 크기와 거리](#3-벡터의-선형-결합-내적-크기와-거리)\n",
    "4. [희소 벡터 (Sparse Vector)](#4-희소-벡터-Sparse-Vector)\n",
    "5. [행렬 생성 및 속성](#5-행렬-생성-및-속성)\n",
    "6. [행렬의 기본 연산](#6-행렬의-기본-연산)\n",
    "7. [K-means 기본 원리](#7-K-means-기본-원리)\n",
    "8. [K-means 적용: MNIST 중심 시각화](#8-K-means-적용-mnist-중심-시각화)"
   ]
  },
  {
   "cell_type": "markdown",
   "id": "b1e15a20",
   "metadata": {
    "cell_marker": "\"\"\""
   },
   "source": [
    "## 준비하기: 라이브러리 설치 및 불러오기"
   ]
  },
  {
   "cell_type": "code",
   "execution_count": null,
   "id": "092fca37",
   "metadata": {},
   "outputs": [],
   "source": [
    "# 라이브러리 설치\n",
    "import subprocess\n",
    "import sys\n",
    "\n",
    "def install_if_not_exists(package):\n",
    "    try:\n",
    "        __import__(package)\n",
    "    except ImportError:\n",
    "        subprocess.check_call([sys.executable, \"-m\", \"pip\", \"install\", package])\n",
    "\n",
    "# 모든 실습에 필요한 라이브러리 목록\n",
    "required_packages = [\"numpy\", \"matplotlib\", \"scikit-learn\", \"scipy\"]\n",
    "for package in required_packages:\n",
    "    install_if_not_exists(package)\n",
    "\n",
    "\n",
    "# 라이브러리 불러오기\n",
    "import numpy as np\n",
    "import matplotlib.pyplot as plt\n",
    "from sklearn.cluster import KMeans\n",
    "from sklearn.datasets import make_blobs, fetch_openml\n",
    "import scipy.sparse\n",
    "import time\n",
    "\n",
    "# 전체 실습의 재현성을 위해 랜덤 시드를 고정합니다.\n",
    "np.random.seed(0)"
   ]
  },
  {
   "cell_type": "markdown",
   "id": "d1d6d52e",
   "metadata": {
    "cell_marker": "\"\"\""
   },
   "source": [
    "## MNIST 데이터셋 불러오기\n",
    "scikit-learn의 fetch_openml을 사용하여 MNIST 손글씨 숫자 데이터셋을 불러옵니다.\n",
    "데이터는 784개의 픽셀(28x28)로 구성된 이미지이며, 0~255 값을 갖습니다.\n",
    "K-means 실습에서 사용할 수 있도록 255로 나누어 정규화합니다."
   ]
  },
  {
   "cell_type": "code",
   "execution_count": null,
   "id": "a2f4cb84",
   "metadata": {
    "lines_to_next_cell": 2
   },
   "outputs": [],
   "source": [
    "print(\"MNIST 데이터셋을 불러오는 중... (몇 분 정도 소요될 수 있습니다)\")\n",
    "try:\n",
    "    # as_frame=False : numpy array로 받기\n",
    "    # parser='auto' : 최신 scikit-learn에서 권장하는 파서\n",
    "    mnist = fetch_openml('mnist_784', version=1, as_frame=False, parser='auto')\n",
    "    \n",
    "    X_mnist_data = mnist.data / 255.0  # 정규화\n",
    "    y_mnist_data = mnist.target.astype(int)\n",
    "    \n",
    "    print(\"MNIST 데이터셋 로드 완료.\")\n",
    "    print(f\"데이터 형태: {X_mnist_data.shape}\")\n",
    "    print(f\"레이블 형태: {y_mnist_data.shape}\")\n",
    "except Exception as e:\n",
    "    print(f\"데이터셋 로드 중 오류 발생: {e}\")\n",
    "    print(\"인터넷 연결을 확인하거나, 잠시 후 다시 시도해주세요.\")\n",
    "    X_mnist_data, y_mnist_data = None, None"
   ]
  },
  {
   "cell_type": "markdown",
   "id": "81d31d13",
   "metadata": {
    "cell_marker": "\"\"\""
   },
   "source": [
    "## 1. 벡터 생성과 기본 속성\n",
    "\n",
    "### 1.1. 기본 벡터 생성하기\n",
    "np.array() 함수에 리스트를 전달하여 간단하게 벡터(1차원 배열)를 만들 수 있습니다."
   ]
  },
  {
   "cell_type": "code",
   "execution_count": null,
   "id": "653ec02e",
   "metadata": {},
   "outputs": [],
   "source": [
    "# 실습: 아래 벡터의 값들을 다른 숫자로 바꾸고 실행해보세요.\n",
    "a = np.array([1, 2, 3])\n",
    "b = np.array([10, 20, 30, 40])\n",
    "print(\"벡터 a:\", a)\n",
    "print(\"벡터 b:\", b)"
   ]
  },
  {
   "cell_type": "markdown",
   "id": "f474fe5b",
   "metadata": {
    "cell_marker": "\"\"\""
   },
   "source": [
    "### 1.2. 벡터의 속성 확인하기\n",
    "- .shape: 벡터의 크기(몇 개의 요소가 있는지)를 알려줍니다.\n",
    "- .size: 벡터에 포함된 총 요소의 개수를 알려줍니다. 1차원 벡터에서는 .shape의 값과 동일합니다."
   ]
  },
  {
   "cell_type": "code",
   "execution_count": null,
   "id": "13441c41",
   "metadata": {},
   "outputs": [],
   "source": [
    "# 실습: 위에서 정의한 a, b 벡터의 속성을 확인합니다.\n",
    "print(\"a의 형태(크기):\", a.shape)\n",
    "print(\"a의 요소 개수:\", a.size)\n",
    "print(\"---\")\n",
    "print(\"b의 형태(크기):\", b.shape)\n",
    "print(\"b의 요소 개수:\", b.size)"
   ]
  },
  {
   "cell_type": "markdown",
   "id": "c25e23f6",
   "metadata": {
    "cell_marker": "\"\"\""
   },
   "source": [
    "### 1.3. 특정 요소에 접근하기 (Indexing)\n",
    "벡터의 개별 요소에 접근할 때는 인덱싱을 사용합니다. Python에서는 인덱스가 0부터 시작한다는 점을 기억하세요!"
   ]
  },
  {
   "cell_type": "code",
   "execution_count": null,
   "id": "cbde076a",
   "metadata": {},
   "outputs": [],
   "source": [
    "# 실습: a 벡터의 인덱스 1에 접근합니다.\n",
    "print(f\"a[1]: {a[1]}\")\n",
    "\n",
    "# 실습: b 벡터의 인덱스 2에 접근합니다.\n",
    "print(f\"b[2]: {b[2]}\")"
   ]
  },
  {
   "cell_type": "markdown",
   "id": "d744f940",
   "metadata": {
    "cell_marker": "\"\"\""
   },
   "source": [
    "### 1.4. 특별한 형태의 벡터 만들기\n",
    "때로는 모든 요소가 0 또는 1로 채워진 벡터가 필요합니다.\n",
    "- np.zeros(): 영 벡터(모든 요소가 0)를 생성합니다.\n",
    "- np.ones(): 일 벡터(모든 요소가 1)를 생성합니다."
   ]
  },
  {
   "cell_type": "code",
   "execution_count": null,
   "id": "8562db80",
   "metadata": {},
   "outputs": [],
   "source": [
    "# 실습: 크기가 4인 영 벡터와 크기가 3인 일 벡터를 만들어보세요.\n",
    "# 모든 요소가 0인 벡터를 생성합니다.\n",
    "zero_vec = np.zeros(4)\n",
    "print(\"영 벡터 (zeros):\\n\", zero_vec)\n",
    "print(\"-\" * 20)\n",
    "\n",
    "# 모든 요소가 1인 벡터를 생성합니다.\n",
    "ones_vec = np.ones(3)\n",
    "print(\"1 벡터 (ones):\\n\", ones_vec)"
   ]
  },
  {
   "cell_type": "markdown",
   "id": "6dbe6a76",
   "metadata": {
    "cell_marker": "\"\"\""
   },
   "source": [
    "## 2. 벡터의 기본 연산\n",
    "\n",
    "### 2.1. 덧셈과 뺄셈\n",
    "크기(차원)가 같은 두 벡터는 서로 더하거나 뺄 수 있습니다."
   ]
  },
  {
   "cell_type": "code",
   "execution_count": null,
   "id": "1380cd26",
   "metadata": {},
   "outputs": [],
   "source": [
    "# 실습: 아래 v1과 v2의 값을 다른 숫자로 바꾸고, 덧셈/뺄셈 결과와 그래프가 어떻게 변하는지 관찰해보세요.\n",
    "v1 = np.array([2, 4])\n",
    "v2 = np.array([4, 1])\n",
    "\n",
    "# 덧셈\n",
    "v_add = v1 + v2\n",
    "print(f\"v1 + v2 = {v1} + {v2} = {v_add}\")\n",
    "\n",
    "# 뺄셈\n",
    "v_sub = v1 - v2\n",
    "print(f\"v1 - v2 = {v1} - {v2} = {v_sub}\")"
   ]
  },
  {
   "cell_type": "markdown",
   "id": "c72875ff",
   "metadata": {
    "cell_marker": "\"\"\""
   },
   "source": [
    "### 2.2. 덧셈 시각화하기\n",
    "벡터의 연산은 기하학적으로 표현할 수 있습니다. 벡터 v1과 v2의 덧셈은 '꼬리-머리 이어붙이기'(Tip-to-Tail) 방식으로 시각화됩니다.\n",
    "- v1 벡터의 머리(끝점)에 v2 벡터의 꼬리(시작점)를 이어 붙이면, 그 결과는 원점에서 v2의 새로운 머리까지의 벡터 v1 + v2와 같습니다."
   ]
  },
  {
   "cell_type": "code",
   "execution_count": null,
   "id": "531ea46b",
   "metadata": {
    "lines_to_next_cell": 2
   },
   "outputs": [],
   "source": [
    "# 원점 (Origin)\n",
    "origin = np.array([0, 0])\n",
    "\n",
    "# 그래프에 표시될 모든 점들을 모아 축의 범위를 동적으로 설정합니다.\n",
    "all_points_x = [0, v1[0], v_add[0]]\n",
    "all_points_y = [0, v1[1], v_add[1]]\n",
    "\n",
    "\n",
    "plt.figure(figsize=(7,7))\n",
    "# v1 벡터를 원점에서 시작하여 그립니다.\n",
    "plt.quiver(*origin, *v1, angles='xy', scale_units='xy', scale=1, color='r', label=f'v1 = {v1}')\n",
    "# v2 벡터를 v1의 끝점에서 시작하여 그립니다 (평행이동).\n",
    "plt.quiver(*v1, *v2, angles='xy', scale_units='xy', scale=1, color='b', label=f'v2 (translated) = {v2}')\n",
    "# v1 + v2 결과 벡터를 원점에서 시작하여 그립니다.\n",
    "plt.quiver(*origin, *v_add, angles='xy', scale_units='xy', scale=1, color='g', label=f'v1 + v2 = {v_add}')\n",
    "\n",
    "\n",
    "# 동적으로 계산된 범위에 여백을 주어 x, y축 범위를 설정합니다.\n",
    "plt.xlim(min(all_points_x) - 1, max(all_points_x) + 1)\n",
    "plt.ylim(min(all_points_y) - 1, max(all_points_y) + 1)\n",
    "\n",
    "plt.title('Vector Addition')\n",
    "plt.xlabel('x-axis')\n",
    "plt.ylabel('y-axis')\n",
    "plt.grid()\n",
    "plt.legend()\n",
    "plt.gca().set_aspect('equal', adjustable='box') # x, y축의 비율을 동일하게 설정합니다.\n",
    "plt.show()"
   ]
  },
  {
   "cell_type": "markdown",
   "id": "b3f0302e",
   "metadata": {
    "cell_marker": "\"\"\""
   },
   "source": [
    "### 2.3. 뺄셈 시각화하기\n",
    "벡터 v1에서 v2를 빼는 것은, v1에 v2의 반대 방향 벡터(-v2)를 더하는 것과 같습니다 (v1 + (-v2)).\n",
    "덧셈과 마찬가지로 '꼬리-머리 이어붙이기' 방식으로 시각화할 수 있습니다."
   ]
  },
  {
   "cell_type": "code",
   "execution_count": null,
   "id": "f94ed40c",
   "metadata": {},
   "outputs": [],
   "source": [
    "# 원점 (Origin)\n",
    "origin = np.array([0, 0])\n",
    "v2_neg = -v2\n",
    "\n",
    "# 그래프에 표시될 모든 점들을 모아 축의 범위를 동적으로 설정합니다.\n",
    "all_points_x_sub = [0, v1[0], v_sub[0]]\n",
    "all_points_y_sub = [0, v1[1], v_sub[1]]\n",
    "\n",
    "plt.figure(figsize=(7,7))\n",
    "# v1 벡터를 원점에서 시작하여 그립니다.\n",
    "plt.quiver(*origin, *v1, angles='xy', scale_units='xy', scale=1, color='r', label=f'v1 = {v1}')\n",
    "# -v2 벡터를 v1의 끝점에서 시작하여 그립니다 (평행이동).\n",
    "plt.quiver(*v1, *v2_neg, angles='xy', scale_units='xy', scale=1, color='b', label=f'-v2 (translated) = {v2_neg}')\n",
    "# v1 - v2 결과 벡터를 원점에서 시작하여 그립니다.\n",
    "plt.quiver(*origin, *v_sub, angles='xy', scale_units='xy', scale=1, color='g', label=f'v1 - v2 = {v_sub}')\n",
    "\n",
    "\n",
    "# 동적으로 계산된 범위에 여백을 주어 x, y축 범위를 설정합니다.\n",
    "plt.xlim(min(all_points_x_sub) - 1, max(all_points_x_sub) + 1)\n",
    "plt.ylim(min(all_points_y_sub) - 1, max(all_points_y_sub) + 1)\n",
    "\n",
    "plt.title('Vector Subtraction')\n",
    "plt.xlabel('x-axis')\n",
    "plt.ylabel('y-axis')\n",
    "plt.grid()\n",
    "plt.legend()\n",
    "plt.gca().set_aspect('equal', adjustable='box') # x, y축의 비율을 동일하게 설정합니다.\n",
    "plt.show()"
   ]
  },
  {
   "cell_type": "markdown",
   "id": "a0d686d5",
   "metadata": {
    "cell_marker": "\"\"\""
   },
   "source": [
    "### 2.4. 스칼라 곱 (Scalar Multiplication)\n",
    "스칼라(단일 숫자)를 벡터에 곱하면, 벡터의 모든 요소에 해당 스칼라가 곱해집니다."
   ]
  },
  {
   "cell_type": "code",
   "execution_count": null,
   "id": "8f0c3b1c",
   "metadata": {},
   "outputs": [],
   "source": [
    "# 실습: 스칼라 alpha의 값을 양수, 음수, 0으로 바꿔보며 결과 벡터가 어떻게 변하는지 확인해보세요.\n",
    "alpha = 3\n",
    "v = np.array([1, 2, -3])\n",
    "print(f\"{alpha} * {v} = {alpha * v}\")"
   ]
  },
  {
   "cell_type": "markdown",
   "id": "3085092e",
   "metadata": {
    "cell_marker": "\"\"\""
   },
   "source": [
    "## 3. 벡터의 선형 결합, 내적, 크기와 거리\n",
    "\n",
    "### 3.1. 선형 결합 (Linear Combination)\n",
    "여러 벡터에 스칼라를 곱한 뒤 더하여 새로운 벡터를 만드는 연산입니다."
   ]
  },
  {
   "cell_type": "code",
   "execution_count": null,
   "id": "6e4ed1d2",
   "metadata": {},
   "outputs": [],
   "source": [
    "# 실습: c1, c2의 값을 바꿔보며 선형 결합의 결과가 어떻게 달라지는지 확인해보세요.\n",
    "a1 = np.array([1, 2])\n",
    "a2 = np.array([3, 0])\n",
    "\n",
    "# 스칼라 계수를 정의합니다.\n",
    "c1 = 2\n",
    "c2 = -1.5\n",
    "\n",
    "# a1과 a2 벡터를 스칼라배하여 더합니다.\n",
    "b_combined = c1 * a1 + c2 * a2\n",
    "print(f\"{c1}*a1 + {c2}*a2 = {b_combined}\")"
   ]
  },
  {
   "cell_type": "markdown",
   "id": "117b609b",
   "metadata": {
    "cell_marker": "\"\"\""
   },
   "source": [
    "### 3.2. 내적 (Inner Product / Dot Product)\n",
    "두 벡터의 각 요소별 곱의 총합입니다. @ 또는 np.dot()으로 계산하며, '가중합' 계산 등에 활용됩니다."
   ]
  },
  {
   "cell_type": "code",
   "execution_count": null,
   "id": "a84ea812",
   "metadata": {},
   "outputs": [],
   "source": [
    "# 실습: a와 b 벡터의 값을 바꿔보며 내적 결과가 어떻게 변하는지 확인해보세요.\n",
    "a = np.array([1, 2, 3])\n",
    "b = np.array([4, 5, 6])\n",
    "\n",
    "# 두 벡터의 내적을 계산합니다.\n",
    "dot_product = np.dot(a, b)  # 또는 a @ b\n",
    "print(f\"{a} 와 {b} 의 내적: {dot_product}\")"
   ]
  },
  {
   "cell_type": "markdown",
   "id": "d84d3333",
   "metadata": {
    "cell_marker": "\"\"\""
   },
   "source": [
    "### 3.3. 놈 (Norm) 계산하기: 벡터의 크기\n",
    "벡터의 놈(Norm)은 원점(0,0)에서 벡터의 끝점까지의 거리를 의미하며, 보통 벡터의 '크기'나 '길이'를 나타냅니다.\n",
    "np.linalg.norm() 함수를 사용하여 유클리드 놈(L2 Norm)을 계산할 수 있습니다."
   ]
  },
  {
   "cell_type": "code",
   "execution_count": null,
   "id": "fb56e2b1",
   "metadata": {},
   "outputs": [],
   "source": [
    "# 실습: 벡터 x의 값을 바꿔보며 놈(크기) 값이 어떻게 변하는지 확인해보세요.\n",
    "# 피타고라스 삼조(3, 4, 5)를 이용한 예시\n",
    "x = np.array([3, 4])\n",
    "norm_x = np.linalg.norm(x)\n",
    "print(f\"벡터 x={x} 의 놈(크기): {norm_x}\")"
   ]
  },
  {
   "cell_type": "markdown",
   "id": "b7596e57",
   "metadata": {
    "cell_marker": "\"\"\""
   },
   "source": [
    "### 3.4. 벡터 간의 거리 (Distance)\n",
    "두 벡터(점) a와 b 사이의 거리는, 두 벡터의 차(a - b)의 놈(크기)과 같습니다.\n",
    "즉, 한 점에서 다른 점으로 이동하는 벡터의 크기를 계산하는 것과 동일합니다."
   ]
  },
  {
   "cell_type": "code",
   "execution_count": null,
   "id": "9ea21c95",
   "metadata": {},
   "outputs": [],
   "source": [
    "# 실습: 벡터 a와 b의 값을 바꿔보며 두 점 사이의 거리가 어떻게 계산되는지 확인해보세요.\n",
    "a = np.array([1, 2])\n",
    "b = np.array([4, 6])\n",
    "\n",
    "# 두 벡터 사이의 유클리드 거리는 두 벡터의 차의 놈과 같습니다.\n",
    "distance = np.linalg.norm(a - b)\n",
    "print(f\"벡터 a={a} 와 b={b} 사이의 거리: {distance}\")"
   ]
  },
  {
   "cell_type": "markdown",
   "id": "0895e016",
   "metadata": {
    "cell_marker": "\"\"\""
   },
   "source": [
    "## 4. 희소 벡터 (Sparse Vector)\n",
    "\n",
    "데이터의 대부분의 요소가 0인 벡터를 희소 벡터(Sparse Vector) 또는 희소 행렬(Sparse Matrix)이라고 합니다.\n",
    "희소 벡터는 0이 아닌 값과 그 값의 위치(인덱스) 정보만을 저장하여 메모리를 크게 절약하고, 특정 연산의 속도를 높일 수 있습니다.\n",
    "Python에서는 scipy.sparse 라이브러리를 사용하여 희소 벡터와 희소 행렬을 효율적으로 다룰 수 있습니다."
   ]
  },
  {
   "cell_type": "markdown",
   "id": "82bd92dd",
   "metadata": {
    "cell_marker": "\"\"\""
   },
   "source": [
    "### 4.1. 연산 성능 비교를 위한 대규모 벡터 생성\n",
    "희소 벡터의 가장 큰 장점 중 하나는 연산 속도입니다. 0인 부분은 계산에서 제외하므로, 특히 벡터의 크기가 크고 희소할수록(0이 많을수록) 다양한 연산에서 큰 성능 향상을 보입니다.\n",
    "성능 비교를 위해 매우 큰 차원의 일반(Dense) 벡터와 희소(Sparse) 벡터를 생성합니다."
   ]
  },
  {
   "cell_type": "code",
   "execution_count": null,
   "id": "188f67b3",
   "metadata": {},
   "outputs": [],
   "source": [
    "# 매우 큰 차원의 벡터를 생성합니다.\n",
    "# 실습: 벡터의 크기(n_features)나 0이 아닌 요소의 비율(sparsity)을 바꿔보며 속도 차이를 확인해보세요.\n",
    "n_features = 1_000_000\n",
    "sparsity = 0.001 # 0.1%만 0이 아닌 값을 가짐\n",
    "\n",
    "# 첫 번째 벡터 세트 (v1) 생성\n",
    "sparse_v1 = scipy.sparse.random(1, n_features, density=sparsity, format='csr')\n",
    "dense_v1 = sparse_v1.toarray().flatten() # 비교를 위해 일반 벡터로 변환\n",
    "\n",
    "# 두 번째 벡터 세트 (v2) 생성\n",
    "sparse_v2 = scipy.sparse.random(1, n_features, density=sparsity, format='csr')\n",
    "dense_v2 = sparse_v2.toarray().flatten() # 비교를 위해 일반 벡터로 변환"
   ]
  },
  {
   "cell_type": "markdown",
   "id": "1611d131",
   "metadata": {
    "cell_marker": "\"\"\""
   },
   "source": [
    "### 4.2. 희소 벡터와 일반 벡터의 연산 속도 비교\n",
    "이제 생성된 벡터들을 사용하여 다양한 연산의 속도를 측정하고 비교합니다. time 모듈을 사용하여 각 연산에 걸리는 시간을 확인하고, 희소 벡터의 연산 효율성을 직접 눈으로 확인해봅니다."
   ]
  },
  {
   "cell_type": "markdown",
   "id": "2611619e",
   "metadata": {
    "cell_marker": "\"\"\"",
    "lines_to_next_cell": 0
   },
   "source": [
    "### 덧셈 (Addition)"
   ]
  },
  {
   "cell_type": "code",
   "execution_count": null,
   "id": "8f69cdc5",
   "metadata": {},
   "outputs": [],
   "source": [
    "# 일반 벡터 덧셈\n",
    "start_time = time.time()\n",
    "_ = dense_v1 + dense_v2\n",
    "dense_time = time.time() - start_time\n",
    "print(f\"일반 벡터 소요 시간: {dense_time:.6f} 초\")\n",
    "\n",
    "# 희소 벡터 덧셈\n",
    "start_time = time.time()\n",
    "_ = sparse_v1 + sparse_v2\n",
    "sparse_time = time.time() - start_time\n",
    "print(f\"희소 벡터 소요 시간: {sparse_time:.6f} 초\")\n",
    "\n",
    "if sparse_time > 0 and dense_time > sparse_time:\n",
    "    print(f\"-> 희소 벡터가 약 {dense_time / sparse_time:.2f}배 더 빠릅니다.\\n\")\n",
    "else:\n",
    "    print(\"-> 속도 차이가 미미합니다.\\n\")"
   ]
  },
  {
   "cell_type": "markdown",
   "id": "510c0afc",
   "metadata": {
    "cell_marker": "\"\"\"",
    "lines_to_next_cell": 0
   },
   "source": [
    "### 요소별 곱셈 (Element-wise Multiplication)"
   ]
  },
  {
   "cell_type": "code",
   "execution_count": null,
   "id": "1c264236",
   "metadata": {},
   "outputs": [],
   "source": [
    "# 일반 벡터 곱셈\n",
    "start_time = time.time()\n",
    "_ = dense_v1 * dense_v2\n",
    "dense_time = time.time() - start_time\n",
    "print(f\"일반 벡터 소요 시간: {dense_time:.6f} 초\")\n",
    "\n",
    "# 희소 벡터 곱셈\n",
    "start_time = time.time()\n",
    "_ = sparse_v1.multiply(sparse_v2)\n",
    "sparse_time = time.time() - start_time\n",
    "print(f\"희소 벡터 소요 시간: {sparse_time:.6f} 초\")\n",
    "\n",
    "if sparse_time > 0 and dense_time > sparse_time:\n",
    "    print(f\"-> 희소 벡터가 약 {dense_time / sparse_time:.2f}배 더 빠릅니다.\\n\")\n",
    "else:\n",
    "    print(\"-> 속도 차이가 미미합니다.\\n\")"
   ]
  },
  {
   "cell_type": "markdown",
   "id": "97c134c5",
   "metadata": {
    "cell_marker": "\"\"\"",
    "lines_to_next_cell": 0
   },
   "source": [
    "### 내적 (Dot Product)"
   ]
  },
  {
   "cell_type": "code",
   "execution_count": null,
   "id": "2239186c",
   "metadata": {},
   "outputs": [],
   "source": [
    "# 일반 벡터 내적\n",
    "start_time = time.time()\n",
    "_ = np.dot(dense_v1, dense_v2)\n",
    "dense_time = time.time() - start_time\n",
    "print(f\"일반 벡터 소요 시간: {dense_time:.6f} 초\")\n",
    "\n",
    "# 희소 벡터 내적\n",
    "start_time = time.time()\n",
    "_ = sparse_v1.dot(sparse_v2.T)\n",
    "sparse_time = time.time() - start_time\n",
    "print(f\"희소 벡터 소요 시간: {sparse_time:.6f} 초\")\n",
    "\n",
    "if sparse_time > 0 and dense_time > sparse_time:\n",
    "    print(f\"-> 희소 벡터가 약 {dense_time / sparse_time:.2f}배 더 빠릅니다.\\n\")\n",
    "else:\n",
    "    print(\"-> 속도 차이가 미미합니다.\\n\")"
   ]
  },
  {
   "cell_type": "markdown",
   "id": "cae5b459",
   "metadata": {
    "cell_marker": "\"\"\""
   },
   "source": [
    "## 5. 행렬 생성 및 속성\n",
    "\n",
    "### 5.1. Numpy로 행렬 생성하기\n",
    "np.array() 함수에 2차원 리스트를 전달하여 행렬을 생성합니다."
   ]
  },
  {
   "cell_type": "code",
   "execution_count": null,
   "id": "0dd55a01",
   "metadata": {},
   "outputs": [],
   "source": [
    "# 실습: 행렬의 값이나 크기를 바꾸고 실행해보세요.\n",
    "A = np.array([\n",
    "    [1, 2, 3],\n",
    "    [4, 5, 6]\n",
    "])\n",
    "print(\"행렬 A:\\n\", A)"
   ]
  },
  {
   "cell_type": "markdown",
   "id": "63434039",
   "metadata": {
    "cell_marker": "\"\"\""
   },
   "source": [
    "### 5.2. 행렬의 속성 확인\n",
    "- .shape: 행렬의 크기를 (행, 열) 형태로 알려줍니다.\n",
    "- .ndim: 행렬의 차원을 알려줍니다. (행렬은 2차원)\n",
    "- A[행, 열]: 특정 위치의 요소에 접근합니다. (인덱스는 0부터 시작)"
   ]
  },
  {
   "cell_type": "code",
   "execution_count": null,
   "id": "e5a98ae8",
   "metadata": {
    "lines_to_next_cell": 2
   },
   "outputs": [],
   "source": [
    "# 실습: 위에서 정의한 A 행렬의 속성을 확인하고, 특정 요소에 접근해보세요.\n",
    "print(f\"A.shape: {A.shape}\")\n",
    "print(f\"A.ndim: {A.ndim}\")\n",
    "# A 행렬의 1행 2열 요소 (0-based-index)에 접근합니다.\n",
    "print(f\"A[0, 2]: {A[0, 2]}\")"
   ]
  },
  {
   "cell_type": "markdown",
   "id": "35cffde2",
   "metadata": {
    "cell_marker": "\"\"\""
   },
   "source": [
    "### 5.3. 특별한 형태의 행렬 만들기\n",
    "- np.zeros((행, 열)): 모든 요소가 0인 영 행렬을 생성합니다.\n",
    "- np.identity(n): 주대각선이 1이고 나머지는 0인 n x n 크기의 단위 행렬(항등 행렬)을 생성합니다.\n",
    "- np.diag([...]): 리스트를 주대각선 요소로 갖는 대각 행렬을 생성합니다.\n",
    "- np.random.rand(행, 열): 0과 1 사이의 무작위 값으로 채워진 행렬을 생성합니다."
   ]
  },
  {
   "cell_type": "code",
   "execution_count": null,
   "id": "1569382e",
   "metadata": {},
   "outputs": [],
   "source": [
    "# 실습: 각 함수의 인자(shape, size 등)를 바꿔서 다양한 특별한 행렬을 만들어보세요.\n",
    "# 모든 요소가 0인 2x3 행렬을 생성합니다.\n",
    "Z = np.zeros((2, 3))\n",
    "print(\"2x3 영 행렬 (zeros):\\n\", Z)\n",
    "print(\"-\" * 20)\n",
    "\n",
    "# 3x3 단위 행렬을 생성합니다. (주대각선이 1이고 나머지는 0)\n",
    "I = np.identity(3)\n",
    "print(\"3x3 단위 행렬 (identity):\\n\", I)\n",
    "print(\"-\" * 20)\n",
    "\n",
    "# 주대각선에 특정 값을 가지는 대각 행렬을 생성합니다.\n",
    "D = np.diag([0.2, -3, 1.2])\n",
    "print(\"대각 행렬 (diag):\\n\", D)\n",
    "print(\"-\" * 20)\n",
    "\n",
    "# 0과 1 사이의 무작위 값으로 채워진 2x2 행렬을 생성합니다.\n",
    "R = np.random.rand(2, 2)\n",
    "print(\"2x2 랜덤 행렬 (random):\\n\", R)"
   ]
  },
  {
   "cell_type": "markdown",
   "id": "ba03742a",
   "metadata": {
    "cell_marker": "\"\"\""
   },
   "source": [
    "### 5.4. 행렬의 전치 (Transpose)\n",
    "전치 행렬은 원본 행렬의 행과 열을 서로 맞바꾼 행렬입니다. .T로 간단히 구할 수 있습니다.\n",
    "(m, n) 크기 행렬의 전치 행렬은 (n, m) 크기가 됩니다."
   ]
  },
  {
   "cell_type": "code",
   "execution_count": null,
   "id": "7aef16f0",
   "metadata": {},
   "outputs": [],
   "source": [
    "# 실습: 아래 A 행렬을 전치시키고, 원본과 모양(shape)을 비교해보세요.\n",
    "A_T = A.T\n",
    "print(\"원본 행렬 A:\\n\", A)\n",
    "print(f\"A.shape: {A.shape}\")\n",
    "print(\"-\" * 20)\n",
    "print(\"A의 전치 행렬 A.T:\\n\", A_T)\n",
    "print(f\"A.T.shape: {A_T.shape}\")"
   ]
  },
  {
   "cell_type": "markdown",
   "id": "83095069",
   "metadata": {
    "cell_marker": "\"\"\""
   },
   "source": [
    "## 6. 행렬의 기본 연산\n",
    "벡터와 마찬가지로, 크기가 같은 행렬끼리는 요소별 덧셈과 뺄셈이 가능하며, 스칼라 곱 또한 모든 요소에 적용됩니다."
   ]
  },
  {
   "cell_type": "code",
   "execution_count": null,
   "id": "78c923f7",
   "metadata": {},
   "outputs": [],
   "source": [
    "# 실습: 행렬의 값을 바꾸거나, 스칼라 값을 바꿔서 연산 결과를 확인해보세요.\n",
    "# 연산을 쉽게 확인하기 위해 간단한 정수 행렬을 새로 정의합니다.\n",
    "A_add = np.array([\n",
    "    [10, 20, 30],\n",
    "    [40, 50, 60]\n",
    "])\n",
    "B_add = np.array([\n",
    "    [1, 2, 3],\n",
    "    [4, 5, 6]\n",
    "])\n",
    "\n",
    "print(\"행렬 A:\\n\", A_add)\n",
    "print(\"행렬 B:\\n\", B_add)\n",
    "print(\"-\" * 20)\n",
    "\n",
    "# 덧셈\n",
    "print(\"A + B:\\n\", A_add + B_add)\n",
    "print(\"-\" * 20)\n",
    "\n",
    "# 뺄셈\n",
    "print(\"A - B:\\n\", A_add - B_add)\n",
    "print(\"-\" * 20)\n",
    "\n",
    "# 스칼라 곱\n",
    "print(\"2 * A:\\n\", 2 * A_add)"
   ]
  },
  {
   "cell_type": "markdown",
   "id": "86eec26d",
   "metadata": {
    "cell_marker": "\"\"\""
   },
   "source": [
    "## 7. K-means 기본 원리"
   ]
  },
  {
   "cell_type": "markdown",
   "id": "89b2f8cc",
   "metadata": {
    "cell_marker": "\"\"\""
   },
   "source": [
    "### 7.1. 기본 원리 학습용 데이터 생성 및 시각화\n",
    "K-means 알고리즘을 시각적으로 이해하기 위해, make_blobs 함수를 사용하여 명확하게 구분된 데이터 군집을 생성하고 시각화합니다."
   ]
  },
  {
   "cell_type": "code",
   "execution_count": null,
   "id": "fcc24c6e",
   "metadata": {
    "lines_to_next_cell": 2
   },
   "outputs": [],
   "source": [
    "# 실습: n_samples, centers, cluster_std 값을 바꿔보며 데이터 분포가 어떻게 변하는지 확인해보세요.\n",
    "X_kmeans_blobs, y_kmeans_true = make_blobs(n_samples=300, centers=4,\n",
    "                       cluster_std=0.60, random_state=0)\n",
    "\n",
    "plt.figure(figsize=(8, 6))\n",
    "plt.scatter(X_kmeans_blobs[:, 0], X_kmeans_blobs[:, 1], s=50)\n",
    "plt.title(\"Generated Data for Clustering\")\n",
    "plt.xlabel(\"Feature 1\")\n",
    "plt.ylabel(\"Feature 2\")\n",
    "plt.grid()\n",
    "plt.show()"
   ]
  },
  {
   "cell_type": "markdown",
   "id": "1c5ebc7a",
   "metadata": {
    "cell_marker": "\"\"\""
   },
   "source": [
    "### 7.2. K-means 모델 학습 및 결과 시각화\n",
    "sklearn.cluster.KMeans를 사용하여 모델을 학습하고, 군집화 결과를 시각화합니다.\n",
    "K-means는 각 데이터 포인트를 가장 가까운 군집 중심에 할당하는 방식으로 동작하며, 결과적으로 데이터가 4개의 그룹으로 잘 나뉘는 것을 볼 수 있습니다."
   ]
  },
  {
   "cell_type": "code",
   "execution_count": null,
   "id": "5da28ec7",
   "metadata": {},
   "outputs": [],
   "source": [
    "# 실습: n_clusters 값을 실제 클러스터 개수인 4가 아닌 다른 값(예: 3, 5)으로 바꿔보세요.\n",
    "#       결과가 어떻게 달라지는지 관찰하고, K값 설정의 중요성에 대해 생각해보세요.\n",
    "kmeans = KMeans(n_clusters=4, init='k-means++', n_init=1, random_state=0)\n",
    "y_kmeans = kmeans.fit_predict(X_kmeans_blobs)\n",
    "\n",
    "plt.figure(figsize=(10, 7))\n",
    "plt.scatter(X_kmeans_blobs[:, 0], X_kmeans_blobs[:, 1], c=y_kmeans, s=50, cmap='viridis')\n",
    "centers = kmeans.cluster_centers_\n",
    "plt.scatter(centers[:, 0], centers[:, 1], c='red', s=200, alpha=0.75, marker='X', label='Centroids')\n",
    "plt.title(\"K-Means Clustering Results\")\n",
    "plt.xlabel(\"Feature 1\")\n",
    "plt.ylabel(\"Feature 2\")\n",
    "plt.legend()\n",
    "plt.grid()\n",
    "plt.show()"
   ]
  },
  {
   "cell_type": "markdown",
   "id": "607896b8",
   "metadata": {
    "cell_marker": "\"\"\""
   },
   "source": [
    "## 8. K-means 적용: MNIST 중심 시각화\n",
    "실제 데이터인 MNIST 손글씨 숫자 데이터셋에 K-means를 적용합니다. 784차원의 픽셀 데이터를 10개의 클러스터(0~9 숫자)로 그룹화하고, 학습된 각 클러스터의 중심(Centroid)을 시각화합니다.\n",
    "이는 각 클러스터를 대표하는 '평균적인' 숫자 이미지를 보여줍니다.\n",
    "\n",
    "중요: K-means는 비지도 학습이므로, 클러스터의 레이블(예: 'Cluster 0')이 실제 숫자의 레이블(예: '0')과 일치하지는 않습니다."
   ]
  },
  {
   "cell_type": "code",
   "execution_count": null,
   "id": "c1e37c5f",
   "metadata": {},
   "outputs": [],
   "source": [
    "if X_mnist_data is not None:\n",
    "    X_mnist_kmeans = X_mnist_data\n",
    "    y_mnist_kmeans = y_mnist_data\n",
    "    \n",
    "    print(f\"데이터 크기: {X_mnist_kmeans.shape}\")\n",
    "\n",
    "    # n_init=1: 1번의 초기값으로 실행합니다.\n",
    "    # verbose=1: 학습 진행 상황을 출력하여 실시간으로 확인합니다.\n",
    "    mnist_kmeans = KMeans(n_clusters=10, init='k-means++', n_init=1, random_state=0, verbose=1)\n",
    "    mnist_kmeans.fit(X_mnist_kmeans)\n",
    "\n",
    "    # 클러스터 중심(Centroid) 시각화\n",
    "    centroids_mnist = mnist_kmeans.cluster_centers_\n",
    "\n",
    "    fig, ax = plt.subplots(2, 5, figsize=(10, 5))\n",
    "    for i, centroid in enumerate(centroids_mnist):\n",
    "        img = centroid.reshape(28, 28)\n",
    "        row = i // 5\n",
    "        col = i % 5\n",
    "        ax[row, col].imshow(img, cmap='gray')\n",
    "        ax[row, col].set_title(f'Cluster {i}')\n",
    "        ax[row, col].axis('off')\n",
    "\n",
    "    plt.suptitle(\"MNIST K-Means Centroids\", fontsize=16)\n",
    "    plt.tight_layout()\n",
    "    plt.show()\n",
    "else:\n",
    "    print(\"MNIST 데이터셋이 로드되지 않아 K-means 실습을 건너뜁니다.\")"
   ]
  }
 ],
 "metadata": {
  "jupytext": {
   "cell_metadata_filter": "-all",
   "main_language": "python",
   "notebook_metadata_filter": "-all"
  }
 },
 "nbformat": 4,
 "nbformat_minor": 5
}
