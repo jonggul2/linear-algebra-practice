{
 "cells": [
  {
   "cell_type": "markdown",
   "id": "35d48252",
   "metadata": {
    "cell_marker": "\"\"\""
   },
   "source": [
    "# Vector Manipulation Practice\n",
    "\n",
    "**목표**: 벡터 개념을 Numpy를 이용해 직접 구현하고, 기본 연산 및 측정 방법을 익힙니다."
   ]
  },
  {
   "cell_type": "markdown",
   "id": "1dafd32b",
   "metadata": {
    "cell_marker": "\"\"\""
   },
   "source": [
    "### 라이브러리 설치 및 불러오기\n",
    "아래 코드는 실습에 필요한 `numpy`와 `matplotlib` 라이브러리가 설치되어 있는지 확인하고, 없을 경우 설치합니다.\n",
    "그 다음, 실습에 필요한 모든 라이브러리를 불러옵니다."
   ]
  },
  {
   "cell_type": "code",
   "execution_count": null,
   "id": "b1e38a97",
   "metadata": {},
   "outputs": [],
   "source": [
    "# --- 라이브러리 설치 ---\n",
    "import subprocess\n",
    "import sys\n",
    "\n",
    "def install_if_not_exists(package):\n",
    "    try:\n",
    "        __import__(package)\n",
    "    except ImportError:\n",
    "        subprocess.check_call([sys.executable, \"-m\", \"pip\", \"install\", package])\n",
    "\n",
    "install_if_not_exists(\"numpy\")\n",
    "install_if_not_exists(\"matplotlib\")\n",
    "\n",
    "\n",
    "# --- 라이브러리 불러오기 ---\n",
    "import numpy as np\n",
    "import matplotlib.pyplot as plt"
   ]
  },
  {
   "cell_type": "markdown",
   "id": "57b9067b",
   "metadata": {
    "cell_marker": "\"\"\""
   },
   "source": [
    "### 벡터 생성 및 기본 확인"
   ]
  },
  {
   "cell_type": "markdown",
   "id": "58d62dc0",
   "metadata": {
    "cell_marker": "\"\"\""
   },
   "source": [
    "#### 기본 벡터 생성하기\n",
    "\n",
    "`np.array()`를 사용해 예시 벡터를 만들어봅니다."
   ]
  },
  {
   "cell_type": "code",
   "execution_count": null,
   "id": "2ebee515",
   "metadata": {},
   "outputs": [],
   "source": [
    "# 간단한 정수 벡터를 생성합니다.\n",
    "a = np.array([1, 2, 3])\n",
    "# 실수를 포함한 벡터를 생성할 수도 있습니다.\n",
    "b = np.array([10, 20, 30, 40])\n",
    "print(\"벡터 a:\", a)\n",
    "print(\"벡터 b:\", b)"
   ]
  },
  {
   "cell_type": "markdown",
   "id": "2bc166d2",
   "metadata": {
    "cell_marker": "\"\"\""
   },
   "source": [
    "#### 벡터 속성 확인하기\n",
    "\n",
    "벡터의 크기(`.shape`)와 요소의 개수(`.size`)를 확인합니다."
   ]
  },
  {
   "cell_type": "code",
   "execution_count": null,
   "id": "f836b9fc",
   "metadata": {},
   "outputs": [],
   "source": [
    "print(\"a의 형태(크기):\", a.shape)\n",
    "print(\"a의 요소 개수:\", a.size)\n",
    "print(\"---\")\n",
    "print(\"b의 형태(크기):\", b.shape)\n",
    "print(\"b의 요소 개수:\", b.size)"
   ]
  },
  {
   "cell_type": "markdown",
   "id": "2e96582e",
   "metadata": {
    "cell_marker": "\"\"\""
   },
   "source": [
    "#### 특정 요소에 접근하기 (Indexing)\n",
    "\n",
    "Python의 인덱스는 0부터 시작합니다."
   ]
  },
  {
   "cell_type": "code",
   "execution_count": null,
   "id": "457d2fd6",
   "metadata": {},
   "outputs": [],
   "source": [
    "# a 벡터의 인덱스 1에 접근합니다.\n",
    "print(f\"a[1]: {a[1]}\")\n",
    "\n",
    "# b 벡터의 인덱스 2에 접근합니다.\n",
    "print(f\"b[2]: {b[2]}\")"
   ]
  },
  {
   "cell_type": "markdown",
   "id": "429eed13",
   "metadata": {
    "cell_marker": "\"\"\""
   },
   "source": [
    "#### 특별한 벡터 만들기\n",
    "`np.zeros()`와 `np.ones()`를 이용해 영 벡터와 1 벡터를 생성합니다."
   ]
  },
  {
   "cell_type": "code",
   "execution_count": null,
   "id": "0f99ee48",
   "metadata": {},
   "outputs": [],
   "source": [
    "# 모든 요소가 0인 벡터를 생성합니다.\n",
    "zero_vec = np.zeros(4)\n",
    "print(\"영 벡터 (zeros):\\n\", zero_vec)\n",
    "print(\"-\" * 20)\n",
    "\n",
    "# 모든 요소가 1인 벡터를 생성합니다.\n",
    "ones_vec = np.ones(3)\n",
    "print(\"1 벡터 (ones):\\n\", ones_vec)"
   ]
  },
  {
   "cell_type": "markdown",
   "id": "15e393e2",
   "metadata": {
    "cell_marker": "\"\"\""
   },
   "source": [
    "### 벡터 덧셈, 뺄셈, 스칼라 곱"
   ]
  },
  {
   "cell_type": "markdown",
   "id": "64492be5",
   "metadata": {
    "cell_marker": "\"\"\""
   },
   "source": [
    "#### 덧셈과 뺄셈\n",
    "크기가 같은 두 벡터를 만들고 덧셈/뺄셈 연산을 수행합니다. Numpy가 요소별(element-wise)로 알아서 계산해준다는 점을 보여줍니다."
   ]
  },
  {
   "cell_type": "code",
   "execution_count": null,
   "id": "ad0a60e5",
   "metadata": {},
   "outputs": [],
   "source": [
    "# 시각화를 위해 2차원 벡터를 사용합니다.\n",
    "# 시각적으로 구분이 쉽도록 서로 다른 방향의 벡터를 사용합니다.\n",
    "v1 = np.array([2, 4])\n",
    "v2 = np.array([4, 1])\n",
    "\n",
    "# 덧셈\n",
    "v_add = v1 + v2\n",
    "print(f\"v1 + v2 = {v1} + {v2} = {v_add}\")\n",
    "\n",
    "# 뺄셈\n",
    "v_sub = v1 - v2\n",
    "print(f\"v1 - v2 = {v1} - {v2} = {v_sub}\")"
   ]
  },
  {
   "cell_type": "markdown",
   "id": "2f68c29b",
   "metadata": {
    "cell_marker": "\"\"\""
   },
   "source": [
    "#### 덧셈 시각화하기\n",
    "`matplotlib` 라이브러리를 사용하여 벡터 덧셈을 2D 그래프에 시각화합니다.\n",
    "- **덧셈**: `v1` 벡터의 끝에서 `v2` 벡터를 이어 붙인 결과는 원점에서 시작한 `v1 + v2` 벡터와 같습니다 (평행사변형 법칙)."
   ]
  },
  {
   "cell_type": "code",
   "execution_count": null,
   "id": "47d0e253",
   "metadata": {
    "lines_to_next_cell": 2
   },
   "outputs": [],
   "source": [
    "# 원점 (Origin)\n",
    "origin = np.array([0, 0])\n",
    "\n",
    "# 그래프에 표시될 모든 점들을 모아 축의 범위를 동적으로 설정합니다.\n",
    "all_points_x = [0, v1[0], v_add[0]]\n",
    "all_points_y = [0, v1[1], v_add[1]]\n",
    "\n",
    "plt.figure()\n",
    "plt.quiver(*origin, *v1, angles='xy', scale_units='xy', scale=1, color='r', label=f'v1 = {v1}')\n",
    "# v2를 v1의 끝점에서 평행이동하여 표시합니다.\n",
    "plt.quiver(*v1, *v2, angles='xy', scale_units='xy', scale=1, color='b', label=f'v2 (translated) = {v2}')\n",
    "plt.quiver(*origin, *v_add, angles='xy', scale_units='xy', scale=1, color='g', label=f'v1 + v2 = {v_add}')\n",
    "\n",
    "# 동적으로 계산된 범위에 여백을 주어 x, y축 범위를 설정합니다.\n",
    "plt.xlim(min(all_points_x) - 1, max(all_points_x) + 1)\n",
    "plt.ylim(min(all_points_y) - 1, max(all_points_y) + 1)\n",
    "\n",
    "plt.title('Vector Addition')\n",
    "plt.xlabel('x-axis')\n",
    "plt.ylabel('y-axis')\n",
    "plt.grid()\n",
    "plt.legend()\n",
    "plt.gca().set_aspect('equal', adjustable='box') # x, y축의 비율을 동일하게 설정합니다.\n",
    "plt.show()"
   ]
  },
  {
   "cell_type": "markdown",
   "id": "c47185ef",
   "metadata": {
    "cell_marker": "\"\"\""
   },
   "source": [
    "#### 뺄셈 시각화하기\n",
    "`matplotlib` 라이브러리를 사용하여 벡터 뺄셈을 2D 그래프에 시각화합니다.\n",
    "- **뺄셈**: `v1 - v2`는 `v1 + (-v2)`와 같습니다. 즉, `v2`의 방향을 뒤집은 `-v2` 벡터를 `v1`에 더하는 것과 같습니다."
   ]
  },
  {
   "cell_type": "code",
   "execution_count": null,
   "id": "a1a258d8",
   "metadata": {},
   "outputs": [],
   "source": [
    "# 원점 (Origin)\n",
    "origin = np.array([0, 0])\n",
    "v2_neg = -v2\n",
    "\n",
    "# 그래프에 표시될 모든 점들을 모아 축의 범위를 동적으로 설정합니다.\n",
    "all_points_x_sub = [0, v1[0], v_sub[0]]\n",
    "all_points_y_sub = [0, v1[1], v_sub[1]]\n",
    "\n",
    "plt.figure()\n",
    "plt.quiver(*origin, *v1, angles='xy', scale_units='xy', scale=1, color='r', label=f'v1 = {v1}')\n",
    "# -v2를 v1의 끝점에서 평행이동하여 표시합니다.\n",
    "plt.quiver(*v1, *v2_neg, angles='xy', scale_units='xy', scale=1, color='b', label=f'-v2 (translated) = {v2_neg}')\n",
    "plt.quiver(*origin, *v_sub, angles='xy', scale_units='xy', scale=1, color='g', label=f'v1 - v2 = {v_sub}')\n",
    "\n",
    "# 동적으로 계산된 범위에 여백을 주어 x, y축 범위를 설정합니다.\n",
    "plt.xlim(min(all_points_x_sub) - 1, max(all_points_x_sub) + 1)\n",
    "plt.ylim(min(all_points_y_sub) - 1, max(all_points_y_sub) + 1)\n",
    "\n",
    "plt.title('Vector Subtraction')\n",
    "plt.xlabel('x-axis')\n",
    "plt.ylabel('y-axis')\n",
    "plt.grid()\n",
    "plt.legend()\n",
    "plt.gca().set_aspect('equal', adjustable='box') # x, y축의 비율을 동일하게 설정합니다.\n",
    "plt.show()"
   ]
  },
  {
   "cell_type": "markdown",
   "id": "ed51a8fc",
   "metadata": {
    "cell_marker": "\"\"\""
   },
   "source": [
    "#### 스칼라 곱\n",
    "\n",
    "벡터에 숫자를 곱하면 모든 요소에 곱셈이 적용되는 것을 보여줍니다."
   ]
  },
  {
   "cell_type": "code",
   "execution_count": null,
   "id": "176d6b3c",
   "metadata": {},
   "outputs": [],
   "source": [
    "# 벡터의 모든 요소에 스칼라 값을 곱합니다.\n",
    "alpha = 3\n",
    "v = np.array([1, 2, -3])\n",
    "print(f\"{alpha} * {v} = {alpha * v}\")"
   ]
  },
  {
   "cell_type": "markdown",
   "id": "6b4d714f",
   "metadata": {
    "cell_marker": "\"\"\""
   },
   "source": [
    "### 선형 결합과 내적"
   ]
  },
  {
   "cell_type": "markdown",
   "id": "751e876c",
   "metadata": {
    "cell_marker": "\"\"\""
   },
   "source": [
    "#### 선형 결합 (Linear Combination)\n",
    "벡터의 스칼라 곱과 덧셈을 조합하여 선형 결합을 실습합니다. 이는 벡터 조작의 핵심 개념입니다."
   ]
  },
  {
   "cell_type": "code",
   "execution_count": null,
   "id": "30fd8d13",
   "metadata": {},
   "outputs": [],
   "source": [
    "a1 = np.array([1, 2])\n",
    "a2 = np.array([3, 0])\n",
    "\n",
    "# 스칼라 계수를 정의합니다.\n",
    "c1 = 2\n",
    "c2 = -1.5\n",
    "\n",
    "# a1과 a2 벡터를 스칼라배하여 더합니다.\n",
    "b_combined = c1 * a1 + c2 * a2\n",
    "print(f\"{c1}*a1 + {c2}*a2 = {b_combined}\")"
   ]
  },
  {
   "cell_type": "markdown",
   "id": "4d0564a6",
   "metadata": {
    "cell_marker": "\"\"\""
   },
   "source": [
    "#### 내적 (Inner Product / Dot Product)\n",
    "\n",
    "`np.dot()` 함수나 `@` 연산자를 사용하여 내적을 계산합니다.\n",
    "내적이 '가중합'을 계산하는 강력한 도구임을 예시로 설명합니다."
   ]
  },
  {
   "cell_type": "code",
   "execution_count": null,
   "id": "7e1af52e",
   "metadata": {},
   "outputs": [],
   "source": [
    "a = np.array([1, 2, 3])\n",
    "b = np.array([4, 5, 6])\n",
    "\n",
    "# 두 벡터의 내적을 계산합니다.\n",
    "dot_product = np.dot(a, b)  # 또는 a @ b\n",
    "print(f\"{a} 와 {b} 의 내적: {dot_product}\")"
   ]
  },
  {
   "cell_type": "markdown",
   "id": "d5116f86",
   "metadata": {
    "cell_marker": "\"\"\""
   },
   "source": [
    "#### 예시: 총 비용 계산하기"
   ]
  },
  {
   "cell_type": "code",
   "execution_count": null,
   "id": "c329be3f",
   "metadata": {},
   "outputs": [],
   "source": [
    "prices = np.array([1500, 3000, 500])\n",
    "quantities = np.array([2, 1, 3])\n",
    "\n",
    "# 가격 벡터와 수량 벡터의 내적은 총비용과 같습니다.\n",
    "total_cost = prices @ quantities\n",
    "print(f\"총 지불 비용: {total_cost}원\")"
   ]
  },
  {
   "cell_type": "markdown",
   "id": "66aa9767",
   "metadata": {
    "cell_marker": "\"\"\""
   },
   "source": [
    "### 벡터의 크기(놈)와 거리"
   ]
  },
  {
   "cell_type": "markdown",
   "id": "65324a91",
   "metadata": {
    "cell_marker": "\"\"\""
   },
   "source": [
    "#### 놈 (Norm) 계산하기\n",
    "`np.linalg.norm()`을 사용하여 벡터의 크기(유클리드 놈)를 계산합니다."
   ]
  },
  {
   "cell_type": "code",
   "execution_count": null,
   "id": "660d113f",
   "metadata": {},
   "outputs": [],
   "source": [
    "# 피타고라스 삼조(3, 4, 5)를 이용한 예시\n",
    "x = np.array([3, 4])\n",
    "norm_x = np.linalg.norm(x)\n",
    "print(f\"벡터 x={x} 의 놈(크기): {norm_x}\")"
   ]
  },
  {
   "cell_type": "markdown",
   "id": "d5f046c8",
   "metadata": {
    "cell_marker": "\"\"\""
   },
   "source": [
    "#### 벡터 간의 거리 (Distance)\n",
    "두 벡터의 차에 놈을 계산하여 거리를 구합니다."
   ]
  },
  {
   "cell_type": "code",
   "execution_count": null,
   "id": "a5823993",
   "metadata": {},
   "outputs": [],
   "source": [
    "a = np.array([1, 2])\n",
    "b = np.array([4, 6])\n",
    "\n",
    "# 두 벡터 사이의 유클리드 거리는 두 벡터의 차의 놈과 같습니다.\n",
    "distance = np.linalg.norm(a - b)\n",
    "print(f\"벡터 a={a} 와 b={b} 사이의 거리: {distance}\")"
   ]
  }
 ],
 "metadata": {
  "jupytext": {
   "cell_metadata_filter": "-all",
   "main_language": "python",
   "notebook_metadata_filter": "-all"
  }
 },
 "nbformat": 4,
 "nbformat_minor": 5
}
