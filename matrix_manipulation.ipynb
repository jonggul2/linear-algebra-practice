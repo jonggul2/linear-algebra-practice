{
 "cells": [
  {
   "cell_type": "markdown",
   "id": "7dc8b698",
   "metadata": {
    "cell_marker": "\"\"\""
   },
   "source": [
    "# Matrix Manipulation Practice\n",
    "\n",
    "**목표**: 행렬의 개념을 코드로 이해하고, 기본 연산과 행렬-벡터 곱의 의미를 실습을 통해 익힙니다."
   ]
  },
  {
   "cell_type": "markdown",
   "id": "4e45fa90",
   "metadata": {
    "cell_marker": "\"\"\""
   },
   "source": [
    "### 라이브러리 설치 및 불러오기\n",
    "아래 코드는 실습에 필요한 `numpy`와 `matplotlib` 라이브러리가 설치되어 있는지 확인하고, 없을 경우 설치합니다.\n",
    "그 다음, 실습에 필요한 모든 라이브러리를 불러옵니다."
   ]
  },
  {
   "cell_type": "code",
   "execution_count": null,
   "id": "eeed88f2",
   "metadata": {},
   "outputs": [],
   "source": [
    "# --- 라이브러리 설치 ---\n",
    "import subprocess\n",
    "import sys\n",
    "\n",
    "def install_if_not_exists(package):\n",
    "    try:\n",
    "        __import__(package)\n",
    "    except ImportError:\n",
    "        subprocess.check_call([sys.executable, \"-m\", \"pip\", \"install\", package])\n",
    "\n",
    "install_if_not_exists(\"numpy\")\n",
    "install_if_not_exists(\"matplotlib\")\n",
    "\n",
    "\n",
    "# --- 라이브러리 불러오기 ---\n",
    "import numpy as np\n",
    "import matplotlib.pyplot as plt"
   ]
  },
  {
   "cell_type": "markdown",
   "id": "b3ebc3e5",
   "metadata": {
    "cell_marker": "\"\"\""
   },
   "source": [
    "### 행렬 생성 및 속성 확인"
   ]
  },
  {
   "cell_type": "markdown",
   "id": "3c14c62d",
   "metadata": {
    "cell_marker": "\"\"\""
   },
   "source": [
    "#### Numpy로 행렬 생성하기\n",
    "`np.array()`에 2차원 리스트를 전달하여 행렬을 생성합니다."
   ]
  },
  {
   "cell_type": "code",
   "execution_count": null,
   "id": "ce4f0ca5",
   "metadata": {},
   "outputs": [],
   "source": [
    "A = np.array([\n",
    "    [1, 2, 3],\n",
    "    [4, 5, 6]\n",
    "])\n",
    "print(\"행렬 A:\\n\", A)"
   ]
  },
  {
   "cell_type": "markdown",
   "id": "aadc87e5",
   "metadata": {
    "cell_marker": "\"\"\""
   },
   "source": [
    "#### 행렬 속성 확인\n",
    "`.shape` (크기), `.ndim` (차원), 특정 요소 접근(indexing)을 실습합니다."
   ]
  },
  {
   "cell_type": "code",
   "execution_count": null,
   "id": "b7816a33",
   "metadata": {
    "lines_to_next_cell": 2
   },
   "outputs": [],
   "source": [
    "print(f\"A.shape: {A.shape}\")\n",
    "print(f\"A.ndim: {A.ndim}\")\n",
    "# A 행렬의 (0, 2) 인덱스에 접근합니다.\n",
    "print(f\"A[0, 2]: {A[0, 2]}\")"
   ]
  },
  {
   "cell_type": "markdown",
   "id": "570c442a",
   "metadata": {
    "cell_marker": "\"\"\""
   },
   "source": [
    "#### 특별한 행렬 만들기\n",
    "영 행렬(`np.zeros`), 단위 행렬(`np.identity`), 대각 행렬(`np.diag`), 랜덤 행렬(`np.random.rand`)을 만듭니다."
   ]
  },
  {
   "cell_type": "code",
   "execution_count": null,
   "id": "c416d935",
   "metadata": {},
   "outputs": [],
   "source": [
    "# 모든 요소가 0인 2x3 행렬을 생성합니다.\n",
    "Z = np.zeros((2, 3))\n",
    "print(\"2x3 영 행렬 (zeros):\\n\", Z)\n",
    "print(\"-\" * 20)\n",
    "\n",
    "# 3x3 단위 행렬을 생성합니다. (주대각선이 1이고 나머지는 0)\n",
    "I = np.identity(3)\n",
    "print(\"3x3 단위 행렬 (identity):\\n\", I)\n",
    "print(\"-\" * 20)\n",
    "\n",
    "# 주대각선에 특정 값을 가지는 대각 행렬을 생성합니다.\n",
    "D = np.diag([0.2, -3, 1.2])\n",
    "print(\"대각 행렬 (diag):\\n\", D)\n",
    "print(\"-\" * 20)\n",
    "\n",
    "# 0과 1 사이의 무작위 값으로 채워진 2x2 행렬을 생성합니다.\n",
    "R = np.random.rand(2, 2)\n",
    "print(\"2x2 랜덤 행렬 (random):\\n\", R)"
   ]
  },
  {
   "cell_type": "markdown",
   "id": "bb2f597b",
   "metadata": {
    "cell_marker": "\"\"\""
   },
   "source": [
    "#### 행렬의 전치 (Transpose)\n",
    "`.T` 속성을 사용해 행과 열을 바꾼 전치행렬을 구합니다."
   ]
  },
  {
   "cell_type": "code",
   "execution_count": null,
   "id": "59a6c491",
   "metadata": {},
   "outputs": [],
   "source": [
    "A_T = A.T\n",
    "print(\"원본 행렬 A:\\n\", A)\n",
    "print(\"-\" * 20)\n",
    "print(\"A의 전치 행렬 A.T:\\n\", A_T)\n",
    "print(\"-\" * 20)\n",
    "print(f\"A.T.shape: {A_T.shape}\")"
   ]
  },
  {
   "cell_type": "markdown",
   "id": "df2c9c56",
   "metadata": {
    "cell_marker": "\"\"\""
   },
   "source": [
    "### 행렬의 기본 연산"
   ]
  },
  {
   "cell_type": "markdown",
   "id": "921419cc",
   "metadata": {
    "cell_marker": "\"\"\""
   },
   "source": [
    "#### 덧셈, 뺄셈, 스칼라 곱\n",
    "같은 크기의 행렬끼리 덧셈, 뺄셈을 수행하고, 행렬에 스칼라 값을 곱합니다."
   ]
  },
  {
   "cell_type": "code",
   "execution_count": null,
   "id": "a76f6988",
   "metadata": {},
   "outputs": [],
   "source": [
    "# 연산을 쉽게 확인하기 위해 간단한 정수 행렬을 새로 정의합니다.\n",
    "A_add = np.array([\n",
    "    [10, 20, 30],\n",
    "    [40, 50, 60]\n",
    "])\n",
    "B_add = np.array([\n",
    "    [1, 2, 3],\n",
    "    [4, 5, 6]\n",
    "])\n",
    "\n",
    "print(\"행렬 A:\\n\", A_add)\n",
    "print(\"행렬 B:\\n\", B_add)\n",
    "print(\"-\" * 20)\n",
    "\n",
    "# 덧셈\n",
    "print(\"A + B:\\n\", A_add + B_add)\n",
    "print(\"-\" * 20)\n",
    "\n",
    "# 뺄셈\n",
    "print(\"A - B:\\n\", A_add - B_add)\n",
    "print(\"-\" * 20)\n",
    "\n",
    "# 스칼라 곱\n",
    "print(\"2 * A:\\n\", 2 * A_add)"
   ]
  },
  {
   "cell_type": "markdown",
   "id": "34b13d7e",
   "metadata": {
    "cell_marker": "\"\"\""
   },
   "source": [
    "#### 행렬-벡터 곱 (Matrix-Vector Multiplication)\n",
    "행렬과 벡터의 곱셈을 실습하고, 두 가지 관점에서 의미를 해석합니다."
   ]
  },
  {
   "cell_type": "code",
   "execution_count": null,
   "id": "eb9e57d6",
   "metadata": {},
   "outputs": [],
   "source": [
    "x = np.array([10, 20, 30])\n",
    "y = A @ x  # np.dot(A, x) 와 동일\n",
    "print(\"벡터 x:\", x)\n",
    "print(\"-\" * 20)\n",
    "print(\"행렬-벡터 곱 Ax 결과 벡터 y:\\n\", y)"
   ]
  },
  {
   "cell_type": "markdown",
   "id": "5cffc4b2",
   "metadata": {
    "cell_marker": "\"\"\""
   },
   "source": [
    "##### 행(Row) 관점\n",
    "결과 벡터의 각 요소는 행렬의 각 행과 입력 벡터의 내적으로 계산됩니다."
   ]
  },
  {
   "cell_type": "code",
   "execution_count": null,
   "id": "22779366",
   "metadata": {},
   "outputs": [],
   "source": [
    "# y[0]은 A의 첫 번째 행과 x의 내적과 같습니다.\n",
    "y0_check = A[0, :] @ x\n",
    "print(f\"y[0] 계산: {A[0, :]} @ {x} = {y0_check}\")\n",
    "# y[1]은 A의 두 번째 행과 x의 내적과 같습니다.\n",
    "y1_check = A[1, :] @ x\n",
    "print(f\"y[1] 계산: {A[1, :]} @ {x} = {y1_check}\")"
   ]
  },
  {
   "cell_type": "markdown",
   "id": "b34a424a",
   "metadata": {
    "cell_marker": "\"\"\""
   },
   "source": [
    "##### 열(Column) 관점\n",
    "결과 벡터는 행렬의 열벡터들을 입력 벡터의 요소로 선형 결합한 것과 같습니다."
   ]
  },
  {
   "cell_type": "code",
   "execution_count": null,
   "id": "04c0a733",
   "metadata": {},
   "outputs": [],
   "source": [
    "# y는 A의 열벡터들의 선형 결합입니다: x[0]*A[:,0] + x[1]*A[:,1] + ...\n",
    "y_check_col = x[0] * A[:, 0] + x[1] * A[:, 1] + x[2] * A[:, 2]\n",
    "print(\"y (열 관점 체크):\", y_check_col)"
   ]
  },
  {
   "cell_type": "markdown",
   "id": "0ebed985",
   "metadata": {
    "cell_marker": "\"\"\""
   },
   "source": [
    "### 행렬 곱셈과 활용"
   ]
  },
  {
   "cell_type": "markdown",
   "id": "8e135987",
   "metadata": {
    "cell_marker": "\"\"\""
   },
   "source": [
    "#### 행렬 곱셈 (Matrix-Matrix Multiplication)\n",
    "`@` 연산자나 `np.dot()`을 이용해 행렬 간의 곱셈을 수행합니다.\n",
    "(m, p) x (p, n) 크기의 행렬을 곱하면 (m, n) 크기의 행렬이 됨을 확인합니다."
   ]
  },
  {
   "cell_type": "code",
   "execution_count": null,
   "id": "e10ffb78",
   "metadata": {},
   "outputs": [],
   "source": [
    "# (2, 3) 행렬과 (3, 2) 행렬의 곱셈\n",
    "A_mul = np.array([\n",
    "    [1, 2, 3],\n",
    "    [4, 5, 6]\n",
    "])\n",
    "B_mul = np.array([\n",
    "    [10, 11],\n",
    "    [20, 21],\n",
    "    [30, 31]\n",
    "])\n",
    "\n",
    "# 행렬 곱셈. A_mul의 열 수(3)와 B_mul의 행 수(3)가 같아야 합니다.\n",
    "C_mul = A_mul @ B_mul  # 결과는 (2, 2) 행렬\n",
    "\n",
    "print(\"행렬 A (2x3):\\n\", A_mul)\n",
    "print(\"행렬 B (3x2):\\n\", B_mul)\n",
    "print(\"-\" * 20)\n",
    "print(\"행렬 곱 AB:\\n\", C_mul)\n",
    "print(f\"AB의 크기: {C_mul.shape}\")"
   ]
  },
  {
   "cell_type": "markdown",
   "id": "030ee03f",
   "metadata": {
    "cell_marker": "\"\"\""
   },
   "source": [
    "#### 벡터의 외적 (Outer Product)\n",
    "두 벡터의 외적(`a @ b^T`)은 행렬을 생성합니다. 이는 `m`-벡터 `a`와 `n`-벡터 `b`를 곱하여 `m x n` 행렬을 만드는 중요한 연산입니다.\n",
    "\n",
    "  ```\n",
    "        [ a1*b1   a1*b2  ...  a1*bn  ]\n",
    "  ab^T =  [ a2*b1   a2*b2  ...  a2*bn  ]\n",
    "        [  ...     ...    ...   ...   ]\n",
    "        [ am*b1   am*b2  ...  am*bn  ]\n",
    "  ```"
   ]
  },
  {
   "cell_type": "code",
   "execution_count": null,
   "id": "46e744bb",
   "metadata": {},
   "outputs": [],
   "source": [
    "# 외적 (Outer Product) 예제\n",
    "a_vec = np.array([1, 2, 3])\n",
    "b_vec = np.array([10, 20])\n",
    "\n",
    "# np.outer() 함수를 사용하여 두 벡터의 외적을 계산합니다.\n",
    "outer_product = np.outer(a_vec, b_vec)\n",
    "\n",
    "print(\"벡터 a:\", a_vec)\n",
    "print(\"벡터 b:\", b_vec)\n",
    "print(\"-\" * 20)\n",
    "print(\"a와 b의 외적 (np.outer(a,b)):\\n\", outer_product)\n",
    "print(f\"외적 행렬의 크기: {outer_product.shape}\")"
   ]
  },
  {
   "cell_type": "markdown",
   "id": "2b5d0353",
   "metadata": {
    "cell_marker": "\"\"\""
   },
   "source": [
    "#### 기하 변환 (Geometric Transformations)\n",
    "많은 2D 및 3D 벡터의 기하학적 변환과 매핑은 행렬 곱셈 `y = Ax`로 표현할 수 있습니다.\n",
    "\n",
    "예를 들어, 벡터를 **`θ`만큼 회전**시키는 변환은 다음과 같은 회전 행렬 `A`를 사용하여 나타낼 수 있습니다.\n",
    "\n",
    "```\n",
    "      [ cos(θ)  -sin(θ) ]\n",
    "A =   [ sin(θ)   cos(θ) ]\n",
    "```\n",
    "\n",
    "결과 벡터 `y`는 `y = Ax`로 계산됩니다."
   ]
  },
  {
   "cell_type": "code",
   "execution_count": null,
   "id": "7212b23a",
   "metadata": {},
   "outputs": [],
   "source": [
    "# 변환할 2D 벡터를 정의합니다.\n",
    "v = np.array([1, 0]) # x축 방향의 단위 벡터\n",
    "\n",
    "# 45도 회전을 위한 변환 행렬을 생성합니다.\n",
    "theta = np.radians(45)\n",
    "R = np.array([[np.cos(theta), -np.sin(theta)],\n",
    "              [np.sin(theta),  np.cos(theta)]])\n",
    "\n",
    "# 회전 변환을 적용합니다.\n",
    "v_rotated = R @ v\n",
    "\n",
    "print(\"원본 벡터 v:\", v)\n",
    "print(\"45도 회전 행렬 R:\\n\", np.round(R, 2))\n",
    "print(\"회전된 벡터 v_rotated:\", np.round(v_rotated, 2))"
   ]
  },
  {
   "cell_type": "code",
   "execution_count": null,
   "id": "a7ebd1cf",
   "metadata": {},
   "outputs": [],
   "source": [
    "# 시각화\n",
    "origin = np.array([0, 0])\n",
    "\n",
    "all_points_x = [0, v[0], v_rotated[0]]\n",
    "all_points_y = [0, v[1], v_rotated[1]]\n",
    "\n",
    "plt.figure()\n",
    "plt.quiver(*origin, *v, angles='xy', scale_units='xy', scale=1, color='r', label=f'Original v = {v}')\n",
    "plt.quiver(*origin, *v_rotated, angles='xy', scale_units='xy', scale=1, color='g', label=f'Rotated v = ({v_rotated[0]:.2f}, {v_rotated[1]:.2f})')\n",
    "\n",
    "# 동적으로 계산된 범위에 여백을 주어 x, y축 범위를 설정합니다.\n",
    "plt.xlim(min(all_points_x) - 1, max(all_points_x) + 1)\n",
    "plt.ylim(min(all_points_y) - 1, max(all_points_y) + 1)\n",
    "\n",
    "plt.title('Geometric Transformation (Rotation)')\n",
    "plt.xlabel('x-axis')\n",
    "plt.ylabel('y-axis')\n",
    "plt.grid()\n",
    "plt.legend()\n",
    "plt.gca().set_aspect('equal', adjustable='box')\n",
    "plt.show()"
   ]
  },
  {
   "cell_type": "markdown",
   "id": "c362653e",
   "metadata": {
    "cell_marker": "\"\"\""
   },
   "source": [
    "#### 선형 변환의 합성 (Composition)\n",
    "두 선형 변환을 연속으로 적용하는 것은, 두 변환 행렬을 곱한 새로운 행렬로 한 번에 변환하는 것과 같습니다.\n",
    "\n",
    "이전의 기하 변환 예시를 활용하여, 30도 회전 후 60도 회전을 추가로 적용하는 것이 90도 회전과 같은지 확인해봅니다."
   ]
  },
  {
   "cell_type": "code",
   "execution_count": null,
   "id": "f0b79beb",
   "metadata": {},
   "outputs": [],
   "source": [
    "# 원본 벡터를 정의합니다.\n",
    "v_comp = np.array([2, 1])\n",
    "\n",
    "# 30도 회전 변환\n",
    "theta_30 = np.radians(30)\n",
    "R_30 = np.array([[np.cos(theta_30), -np.sin(theta_30)],\n",
    "                 [np.sin(theta_30),  np.cos(theta_30)]])\n",
    "\n",
    "# 60도 회전 변환\n",
    "theta_60 = np.radians(60)\n",
    "R_60 = np.array([[np.cos(theta_60), -np.sin(theta_60)],\n",
    "                 [np.sin(theta_60),  np.cos(theta_60)]])\n",
    "\n",
    "# 방법 1: 변환을 순차적으로 적용합니다 (30도 회전 후 60도 회전).\n",
    "v_rotated_seq = R_60 @ (R_30 @ v_comp)\n",
    "\n",
    "# 방법 2: 변환 행렬을 먼저 곱하여 합성한 후, 한 번에 적용합니다.\n",
    "R_90 = R_60 @ R_30\n",
    "v_rotated_combined = R_90 @ v_comp\n",
    "\n",
    "print(\"원본 벡터:\", v_comp)\n",
    "print(\"-\" * 20)\n",
    "print(f\"순차 변환 결과 (30도 -> 60도):\\n\", np.round(v_rotated_seq, 2))\n",
    "print(f\"합성 변환 결과 (90도):\\n\", np.round(v_rotated_combined, 2))"
   ]
  },
  {
   "cell_type": "markdown",
   "id": "3fa0edfd",
   "metadata": {
    "cell_marker": "\"\"\""
   },
   "source": [
    "### 역행렬 (Matrix Inverse)\n",
    "정방 행렬(square matrix) `A`에 대해, 다음을 만족하는 행렬 `B`가 존재한다면 `B`를 `A`의 역행렬(inverse matrix)이라고 부르고 `A⁻¹`로 표기합니다.\n",
    "\n",
    "`A @ A⁻¹ = A⁻¹ @ A = I`\n",
    "\n",
    "여기서 `I`는 단위 행렬(identity matrix)입니다.\n",
    "\n",
    "- 오직 정방 행렬 중에서도 특이 행렬(singular matrix)이 아닌, 즉 **가역 행렬(invertible matrix)**만이 역행렬을 가집니다.\n",
    "- Numpy에서는 `np.linalg.inv()` 함수를 사용하여 역행렬을 계산할 수 있습니다."
   ]
  },
  {
   "cell_type": "code",
   "execution_count": null,
   "id": "ed8bbaa6",
   "metadata": {},
   "outputs": [],
   "source": [
    "# 역행렬을 계산할 2x2 정방 행렬 정의 (피보나치 수열 응용)\n",
    "A_inv_source = np.array([\n",
    "    [1, 1],\n",
    "    [1, 2]\n",
    "])\n",
    "\n",
    "# 역행렬 계산 (가역 행렬)\n",
    "try:\n",
    "    A_inverse = np.linalg.inv(A_inv_source)\n",
    "    print(\"원본 행렬 A:\\n\", A_inv_source)\n",
    "    print(\"-\" * 20)\n",
    "    print(\"A의 역행렬 A⁻¹:\\n\", A_inverse)\n",
    "    print(\"-\" * 20)\n",
    "    \n",
    "    # A @ A⁻¹가 단위 행렬인지 확인 (부동소수점 오차 감안)\n",
    "    identity_check = A_inv_source @ A_inverse\n",
    "    print(\"A @ A⁻¹ (단위 행렬 확인):\\n\", np.round(identity_check, decimals=10))\n",
    "\n",
    "except np.linalg.LinAlgError as e:\n",
    "    print(\"오류:\", e)\n",
    "    print(\"이 행렬은 역행렬을 가지지 않습니다 (특이 행렬).\")"
   ]
  },
  {
   "cell_type": "markdown",
   "id": "a309fcbb",
   "metadata": {
    "cell_marker": "\"\"\""
   },
   "source": [
    "##### 특이 행렬 (Singular Matrix)의 경우\n",
    "역행렬이 존재하지 않는 행렬(예: 한 행/열이 다른 행/열의 선형 조합이거나, 행렬식이 0인 경우)에 `np.linalg.inv()`를 사용하면 `LinAlgError`가 발생합니다."
   ]
  },
  {
   "cell_type": "code",
   "execution_count": null,
   "id": "aa8e554f",
   "metadata": {},
   "outputs": [],
   "source": [
    "# 특이 행렬 (역행렬이 존재하지 않는 행렬)\n",
    "# 2행이 1행의 2배이므로 선형 종속입니다.\n",
    "singular_matrix = np.array([\n",
    "    [1, 2],\n",
    "    [2, 4]\n",
    "])\n",
    "\n",
    "print(\"특이 행렬 B:\\n\", singular_matrix)\n",
    "print(\"-\" * 20)\n",
    "\n",
    "try:\n",
    "    B_inverse = np.linalg.inv(singular_matrix)\n",
    "    print(\"B의 역행렬:\\n\", B_inverse)\n",
    "except np.linalg.LinAlgError as e:\n",
    "    print(\"np.linalg.inv(B) 실행 시 오류 발생:\")\n",
    "    print(e) "
   ]
  }
 ],
 "metadata": {
  "jupytext": {
   "cell_metadata_filter": "-all",
   "main_language": "python",
   "notebook_metadata_filter": "-all"
  }
 },
 "nbformat": 4,
 "nbformat_minor": 5
}
