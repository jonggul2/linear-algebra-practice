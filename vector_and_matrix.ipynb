{
 "cells": [
  {
   "cell_type": "markdown",
   "id": "e7006c63",
   "metadata": {
    "cell_marker": "\"\"\""
   },
   "source": [
    "# Vector and Matrix Manipulation Practice"
   ]
  },
  {
   "cell_type": "markdown",
   "id": "ec79684a",
   "metadata": {
    "cell_marker": "\"\"\""
   },
   "source": [
    "### 준비하기: 라이브러리 설치 및 불러오기\n",
    "\n",
    "본 실습에서는 데이터 분석과 과학 계산의 필수 도구인 `numpy`와, 데이터 시각화를 위한 `matplotlib` 라이브러리를 사용합니다.\n",
    "아래 코드는 라이브러리들이 설치되어 있는지 확인하고, 만약 없다면 자동으로 설치합니다."
   ]
  },
  {
   "cell_type": "code",
   "execution_count": null,
   "id": "bdf54958",
   "metadata": {},
   "outputs": [],
   "source": [
    "# --- 라이브러리 설치 ---\n",
    "import subprocess\n",
    "import sys\n",
    "\n",
    "def install_if_not_exists(package):\n",
    "    try:\n",
    "        __import__(package)\n",
    "    except ImportError:\n",
    "        subprocess.check_call([sys.executable, \"-m\", \"pip\", \"install\", package])\n",
    "\n",
    "install_if_not_exists(\"numpy\")\n",
    "install_if_not_exists(\"matplotlib\")\n",
    "\n",
    "\n",
    "# --- 라이브러리 불러오기 ---\n",
    "import numpy as np\n",
    "import matplotlib.pyplot as plt\n",
    "\n",
    "# 재현성을 위해 랜덤 시드 고정\n",
    "np.random.seed(0)"
   ]
  },
  {
   "cell_type": "markdown",
   "id": "84b700e9",
   "metadata": {
    "cell_marker": "\"\"\""
   },
   "source": [
    "---\n",
    "## Part 1: 벡터 (Vectors)\n",
    "---\n",
    "\n",
    "벡터는 크기와 방향을 함께 가지는 양으로, 숫자를 순서대로 나열한 것입니다.\n",
    "머신러닝에서는 데이터를 표현하는 가장 기본적인 단위로 사용됩니다."
   ]
  },
  {
   "cell_type": "markdown",
   "id": "72dcfdfb",
   "metadata": {
    "cell_marker": "\"\"\""
   },
   "source": [
    "### 1.1. 벡터 생성과 기본 속성\n",
    "\n",
    "#### 기본 벡터 생성하기\n",
    "`np.array()` 함수에 리스트를 전달하여 간단하게 벡터(1차원 배열)를 만들 수 있습니다."
   ]
  },
  {
   "cell_type": "code",
   "execution_count": null,
   "id": "f0660c91",
   "metadata": {},
   "outputs": [],
   "source": [
    "# 실습: 아래 벡터의 값들을 다른 숫자로 바꾸고 실행해보세요.\n",
    "a = np.array([1, 2, 3])\n",
    "b = np.array([10, 20, 30, 40])\n",
    "print(\"벡터 a:\", a)\n",
    "print(\"벡터 b:\", b)"
   ]
  },
  {
   "cell_type": "markdown",
   "id": "df448d34",
   "metadata": {
    "cell_marker": "\"\"\""
   },
   "source": [
    "#### 벡터의 속성 확인하기\n",
    "- `.shape`: 벡터의 크기(몇 개의 요소가 있는지)를 알려줍니다.\n",
    "- `.size`: 벡터에 포함된 총 요소의 개수를 알려줍니다. 1차원 벡터에서는 `.shape`의 값과 동일합니다."
   ]
  },
  {
   "cell_type": "code",
   "execution_count": null,
   "id": "1633f3cc",
   "metadata": {},
   "outputs": [],
   "source": [
    "# 실습: 위에서 정의한 a, b 벡터의 속성을 확인합니다.\n",
    "print(\"a의 형태(크기):\", a.shape)\n",
    "print(\"a의 요소 개수:\", a.size)\n",
    "print(\"---\")\n",
    "print(\"b의 형태(크기):\", b.shape)\n",
    "print(\"b의 요소 개수:\", b.size)"
   ]
  },
  {
   "cell_type": "markdown",
   "id": "5d81af38",
   "metadata": {
    "cell_marker": "\"\"\""
   },
   "source": [
    "#### 특정 요소에 접근하기 (Indexing)\n",
    "벡터의 개별 요소에 접근할 때는 인덱싱을 사용합니다. **Python에서는 인덱스가 0부터 시작**한다는 점을 기억하세요!"
   ]
  },
  {
   "cell_type": "code",
   "execution_count": null,
   "id": "52f7eddd",
   "metadata": {},
   "outputs": [],
   "source": [
    "# 실습: a 벡터의 인덱스 1에 접근합니다.\n",
    "print(f\"a[1]: {a[1]}\")\n",
    "\n",
    "# 실습: b 벡터의 인덱스 2에 접근합니다.\n",
    "print(f\"b[2]: {b[2]}\")"
   ]
  },
  {
   "cell_type": "markdown",
   "id": "26ff6329",
   "metadata": {
    "cell_marker": "\"\"\""
   },
   "source": [
    "#### 특별한 형태의 벡터 만들기\n",
    "때로는 모든 요소가 0 또는 1로 채워진 벡터가 필요합니다.\n",
    "- `np.zeros()`: 영 벡터(모든 요소가 0)를 생성합니다.\n",
    "- `np.ones()`: 일 벡터(모든 요소가 1)를 생성합니다."
   ]
  },
  {
   "cell_type": "code",
   "execution_count": null,
   "id": "58acc001",
   "metadata": {},
   "outputs": [],
   "source": [
    "# 실습: 크기가 4인 영 벡터와 크기가 3인 일 벡터를 만들어보세요.\n",
    "# 모든 요소가 0인 벡터를 생성합니다.\n",
    "zero_vec = np.zeros(4)\n",
    "print(\"영 벡터 (zeros):\\n\", zero_vec)\n",
    "print(\"-\" * 20)\n",
    "\n",
    "# 모든 요소가 1인 벡터를 생성합니다.\n",
    "ones_vec = np.ones(3)\n",
    "print(\"1 벡터 (ones):\\n\", ones_vec)"
   ]
  },
  {
   "cell_type": "markdown",
   "id": "a117a6f0",
   "metadata": {
    "cell_marker": "\"\"\""
   },
   "source": [
    "### 1.2. 벡터의 기본 연산\n",
    "\n",
    "#### 덧셈과 뺄셈\n",
    "크기(차원)가 같은 두 벡터는 서로 더하거나 뺄 수 있습니다."
   ]
  },
  {
   "cell_type": "code",
   "execution_count": null,
   "id": "bbd832a0",
   "metadata": {},
   "outputs": [],
   "source": [
    "# 실습: 아래 v1과 v2의 값을 다른 숫자로 바꾸고, 덧셈/뺄셈 결과와 그래프가 어떻게 변하는지 관찰해보세요.\n",
    "v1 = np.array([2, 4])\n",
    "v2 = np.array([4, 1])\n",
    "\n",
    "# 덧셈\n",
    "v_add = v1 + v2\n",
    "print(f\"v1 + v2 = {v1} + {v2} = {v_add}\")\n",
    "\n",
    "# 뺄셈\n",
    "v_sub = v1 - v2\n",
    "print(f\"v1 - v2 = {v1} - {v2} = {v_sub}\")"
   ]
  },
  {
   "cell_type": "markdown",
   "id": "362c4a8e",
   "metadata": {
    "cell_marker": "\"\"\""
   },
   "source": [
    "#### 덧셈 시각화하기\n",
    "벡터의 연산은 기하학적으로 표현할 수 있습니다. 벡터 `v1`과 `v2`의 덧셈은 **'꼬리-머리 이어붙이기'(Tip-to-Tail)** 방식으로 시각화됩니다.\n",
    "- `v1` 벡터의 머리(끝점)에 `v2` 벡터의 꼬리(시작점)를 이어 붙이면, 그 결과는 원점에서 `v2`의 새로운 머리까지의 벡터 `v1 + v2`와 같습니다."
   ]
  },
  {
   "cell_type": "code",
   "execution_count": null,
   "id": "4bf428e9",
   "metadata": {
    "lines_to_next_cell": 2
   },
   "outputs": [],
   "source": [
    "# 원점 (Origin)\n",
    "origin = np.array([0, 0])\n",
    "\n",
    "# 그래프에 표시될 모든 점들을 모아 축의 범위를 동적으로 설정합니다.\n",
    "all_points_x = [0, v1[0], v_add[0]]\n",
    "all_points_y = [0, v1[1], v_add[1]]\n",
    "\n",
    "\n",
    "plt.figure(figsize=(7,7))\n",
    "# v1 벡터를 원점에서 시작하여 그립니다.\n",
    "plt.quiver(*origin, *v1, angles='xy', scale_units='xy', scale=1, color='r', label=f'v1 = {v1}')\n",
    "# v2 벡터를 v1의 끝점에서 시작하여 그립니다 (평행이동).\n",
    "plt.quiver(*v1, *v2, angles='xy', scale_units='xy', scale=1, color='b', label=f'v2 (translated) = {v2}')\n",
    "# v1 + v2 결과 벡터를 원점에서 시작하여 그립니다.\n",
    "plt.quiver(*origin, *v_add, angles='xy', scale_units='xy', scale=1, color='g', label=f'v1 + v2 = {v_add}')\n",
    "\n",
    "\n",
    "# 동적으로 계산된 범위에 여백을 주어 x, y축 범위를 설정합니다.\n",
    "plt.xlim(min(all_points_x) - 1, max(all_points_x) + 1)\n",
    "plt.ylim(min(all_points_y) - 1, max(all_points_y) + 1)\n",
    "\n",
    "plt.title('Vector Addition')\n",
    "plt.xlabel('x-axis')\n",
    "plt.ylabel('y-axis')\n",
    "plt.grid()\n",
    "plt.legend()\n",
    "plt.gca().set_aspect('equal', adjustable='box') # x, y축의 비율을 동일하게 설정합니다.\n",
    "plt.show()"
   ]
  },
  {
   "cell_type": "markdown",
   "id": "67f21309",
   "metadata": {
    "cell_marker": "\"\"\""
   },
   "source": [
    "#### 뺄셈 시각화하기\n",
    "벡터 `v1`에서 `v2`를 빼는 것은, `v1`에 `v2`의 반대 방향 벡터(`-v2`)를 더하는 것과 같습니다 (`v1 + (-v2)`).\n",
    "덧셈과 마찬가지로 '꼬리-머리 이어붙이기' 방식으로 시각화할 수 있습니다."
   ]
  },
  {
   "cell_type": "code",
   "execution_count": null,
   "id": "415b6986",
   "metadata": {},
   "outputs": [],
   "source": [
    "# 원점 (Origin)\n",
    "origin = np.array([0, 0])\n",
    "v2_neg = -v2\n",
    "\n",
    "# 그래프에 표시될 모든 점들을 모아 축의 범위를 동적으로 설정합니다.\n",
    "all_points_x_sub = [0, v1[0], v_sub[0]]\n",
    "all_points_y_sub = [0, v1[1], v_sub[1]]\n",
    "\n",
    "plt.figure(figsize=(7,7))\n",
    "# v1 벡터를 원점에서 시작하여 그립니다.\n",
    "plt.quiver(*origin, *v1, angles='xy', scale_units='xy', scale=1, color='r', label=f'v1 = {v1}')\n",
    "# -v2 벡터를 v1의 끝점에서 시작하여 그립니다 (평행이동).\n",
    "plt.quiver(*v1, *v2_neg, angles='xy', scale_units='xy', scale=1, color='b', label=f'-v2 (translated) = {v2_neg}')\n",
    "# v1 - v2 결과 벡터를 원점에서 시작하여 그립니다.\n",
    "plt.quiver(*origin, *v_sub, angles='xy', scale_units='xy', scale=1, color='g', label=f'v1 - v2 = {v_sub}')\n",
    "\n",
    "\n",
    "# 동적으로 계산된 범위에 여백을 주어 x, y축 범위를 설정합니다.\n",
    "plt.xlim(min(all_points_x_sub) - 1, max(all_points_x_sub) + 1)\n",
    "plt.ylim(min(all_points_y_sub) - 1, max(all_points_y_sub) + 1)\n",
    "\n",
    "plt.title('Vector Subtraction')\n",
    "plt.xlabel('x-axis')\n",
    "plt.ylabel('y-axis')\n",
    "plt.grid()\n",
    "plt.legend()\n",
    "plt.gca().set_aspect('equal', adjustable='box') # x, y축의 비율을 동일하게 설정합니다.\n",
    "plt.show()"
   ]
  },
  {
   "cell_type": "markdown",
   "id": "b813399c",
   "metadata": {
    "cell_marker": "\"\"\""
   },
   "source": [
    "#### 스칼라 곱 (Scalar Multiplication)\n",
    "스칼라(단일 숫자)를 벡터에 곱하면, 벡터의 모든 요소에 해당 스칼라가 곱해집니다."
   ]
  },
  {
   "cell_type": "code",
   "execution_count": null,
   "id": "e3e797b2",
   "metadata": {},
   "outputs": [],
   "source": [
    "# 실습: 스칼라 alpha의 값을 양수, 음수, 0으로 바꿔보며 결과 벡터가 어떻게 변하는지 확인해보세요.\n",
    "alpha = 3\n",
    "v = np.array([1, 2, -3])\n",
    "print(f\"{alpha} * {v} = {alpha * v}\")"
   ]
  },
  {
   "cell_type": "markdown",
   "id": "a87b5e86",
   "metadata": {
    "cell_marker": "\"\"\""
   },
   "source": [
    "### 1.3. 벡터의 고급 연산: 선형 결합과 내적\n",
    "\n",
    "#### 선형 결합 (Linear Combination)\n",
    "여러 벡터에 스칼라를 곱한 뒤 더하여 새로운 벡터를 만드는 연산입니다."
   ]
  },
  {
   "cell_type": "code",
   "execution_count": null,
   "id": "1947efcb",
   "metadata": {},
   "outputs": [],
   "source": [
    "# 실습: c1, c2의 값을 바꿔보며 선형 결합의 결과가 어떻게 달라지는지 확인해보세요.\n",
    "a1 = np.array([1, 2])\n",
    "a2 = np.array([3, 0])\n",
    "\n",
    "# 스칼라 계수를 정의합니다.\n",
    "c1 = 2\n",
    "c2 = -1.5\n",
    "\n",
    "# a1과 a2 벡터를 스칼라배하여 더합니다.\n",
    "b_combined = c1 * a1 + c2 * a2\n",
    "print(f\"{c1}*a1 + {c2}*a2 = {b_combined}\")"
   ]
  },
  {
   "cell_type": "markdown",
   "id": "93dbea45",
   "metadata": {
    "cell_marker": "\"\"\""
   },
   "source": [
    "#### 내적 (Inner Product / Dot Product)\n",
    "두 벡터의 각 요소별 곱의 총합입니다. `@` 또는 `np.dot()`으로 계산하며, '가중합' 계산 등에 활용됩니다."
   ]
  },
  {
   "cell_type": "code",
   "execution_count": null,
   "id": "55f7f9c5",
   "metadata": {},
   "outputs": [],
   "source": [
    "# 실습: a와 b 벡터의 값을 바꿔보며 내적 결과가 어떻게 변하는지 확인해보세요.\n",
    "a = np.array([1, 2, 3])\n",
    "b = np.array([4, 5, 6])\n",
    "\n",
    "# 두 벡터의 내적을 계산합니다.\n",
    "dot_product = np.dot(a, b)  # 또는 a @ b\n",
    "print(f\"{a} 와 {b} 의 내적: {dot_product}\")"
   ]
  },
  {
   "cell_type": "markdown",
   "id": "ed7f1ef1",
   "metadata": {
    "cell_marker": "\"\"\""
   },
   "source": [
    "#### 내적 활용 예시: 총 구매 비용 계산하기\n",
    "가격 벡터와 수량 벡터의 내적은 총 구매 비용과 같습니다."
   ]
  },
  {
   "cell_type": "code",
   "execution_count": null,
   "id": "f28b0fc3",
   "metadata": {},
   "outputs": [],
   "source": [
    "# 실습: 가격이나 수량 값을 바꿔서 총 비용을 다시 계산해보세요.\n",
    "prices = np.array([1500, 3000, 500])\n",
    "quantities = np.array([2, 1, 3])\n",
    "\n",
    "# 가격 벡터와 수량 벡터의 내적은 총비용과 같습니다.\n",
    "total_cost = prices @ quantities\n",
    "print(f\"총 지불 비용: {total_cost}원\")"
   ]
  },
  {
   "cell_type": "markdown",
   "id": "a77b1b44",
   "metadata": {
    "cell_marker": "\"\"\""
   },
   "source": [
    "### 1.4. 벡터의 크기와 거리\n",
    "\n",
    "#### 놈 (Norm) 계산하기: 벡터의 크기\n",
    "벡터의 **놈(Norm)** 은 원점(0,0)에서 벡터의 끝점까지의 거리를 의미하며, 보통 벡터의 '크기'나 '길이'를 나타냅니다.\n",
    "`np.linalg.norm()` 함수를 사용하여 유클리드 놈(L2 Norm)을 계산할 수 있습니다."
   ]
  },
  {
   "cell_type": "code",
   "execution_count": null,
   "id": "cd4eca85",
   "metadata": {},
   "outputs": [],
   "source": [
    "# 실습: 벡터 x의 값을 바꿔보며 놈(크기) 값이 어떻게 변하는지 확인해보세요.\n",
    "# 피타고라스 삼조(3, 4, 5)를 이용한 예시\n",
    "x = np.array([3, 4])\n",
    "norm_x = np.linalg.norm(x)\n",
    "print(f\"벡터 x={x} 의 놈(크기): {norm_x}\")"
   ]
  },
  {
   "cell_type": "markdown",
   "id": "c8098631",
   "metadata": {
    "cell_marker": "\"\"\""
   },
   "source": [
    "#### 벡터 간의 거리 (Distance)\n",
    "두 벡터(점) `a`와 `b` 사이의 거리는, 두 벡터의 차(`a - b`)의 놈(크기)과 같습니다.\n",
    "즉, 한 점에서 다른 점으로 이동하는 벡터의 크기를 계산하는 것과 동일합니다."
   ]
  },
  {
   "cell_type": "code",
   "execution_count": null,
   "id": "80ad08c0",
   "metadata": {},
   "outputs": [],
   "source": [
    "# 실습: 벡터 a와 b의 값을 바꿔보며 두 점 사이의 거리가 어떻게 계산되는지 확인해보세요.\n",
    "a = np.array([1, 2])\n",
    "b = np.array([4, 6])\n",
    "\n",
    "# 두 벡터 사이의 유클리드 거리는 두 벡터의 차의 놈과 같습니다.\n",
    "distance = np.linalg.norm(a - b)\n",
    "print(f\"벡터 a={a} 와 b={b} 사이의 거리: {distance}\")"
   ]
  },
  {
   "cell_type": "markdown",
   "id": "b7c283bd",
   "metadata": {
    "cell_marker": "\"\"\""
   },
   "source": [
    "---\n",
    "## Part 2: 행렬 (Matrices)\n",
    "---\n",
    "\n",
    "행렬은 숫자를 직사각형 격자 형태로 배열한 것으로, 벡터의 확장된 개념입니다.\n",
    "데이터셋, 연립 방정식, 이미지 등 다양한 형태의 데이터를 표현하며, 데이터를 변환(transformation)하는 역할을 합니다."
   ]
  },
  {
   "cell_type": "markdown",
   "id": "9dbc7e79",
   "metadata": {
    "cell_marker": "\"\"\""
   },
   "source": [
    "### 2.1. 행렬 생성 및 속성\n",
    "\n",
    "#### Numpy로 행렬 생성하기\n",
    "`np.array()` 함수에 2차원 리스트를 전달하여 행렬을 생성합니다."
   ]
  },
  {
   "cell_type": "code",
   "execution_count": null,
   "id": "b629cfc6",
   "metadata": {},
   "outputs": [],
   "source": [
    "# 실습: 행렬의 값이나 크기를 바꾸고 실행해보세요.\n",
    "A = np.array([\n",
    "    [1, 2, 3],\n",
    "    [4, 5, 6]\n",
    "])\n",
    "print(\"행렬 A:\\n\", A)"
   ]
  },
  {
   "cell_type": "markdown",
   "id": "d40b6301",
   "metadata": {
    "cell_marker": "\"\"\""
   },
   "source": [
    "#### 행렬의 속성 확인\n",
    "- `.shape`: 행렬의 크기를 (행, 열) 형태로 알려줍니다.\n",
    "- `.ndim`: 행렬의 차원을 알려줍니다. (행렬은 2차원)\n",
    "- `A[행, 열]`: 특정 위치의 요소에 접근합니다. (인덱스는 0부터 시작)"
   ]
  },
  {
   "cell_type": "code",
   "execution_count": null,
   "id": "4c21c49d",
   "metadata": {
    "lines_to_next_cell": 2
   },
   "outputs": [],
   "source": [
    "# 실습: 위에서 정의한 A 행렬의 속성을 확인하고, 특정 요소에 접근해보세요.\n",
    "print(f\"A.shape: {A.shape}\")\n",
    "print(f\"A.ndim: {A.ndim}\")\n",
    "# A 행렬의 1행 2열 요소 (0-based-index)에 접근합니다.\n",
    "print(f\"A[0, 2]: {A[0, 2]}\")"
   ]
  },
  {
   "cell_type": "markdown",
   "id": "dd1e49be",
   "metadata": {
    "cell_marker": "\"\"\""
   },
   "source": [
    "#### 특별한 형태의 행렬 만들기\n",
    "- `np.zeros((행, 열))`: 모든 요소가 0인 영 행렬을 생성합니다.\n",
    "- `np.identity(n)`: 주대각선이 1이고 나머지는 0인 `n x n` 크기의 단위 행렬(항등 행렬)을 생성합니다.\n",
    "- `np.diag([...])`: 리스트를 주대각선 요소로 갖는 대각 행렬을 생성합니다.\n",
    "- `np.random.rand(행, 열)`: 0과 1 사이의 무작위 값으로 채워진 행렬을 생성합니다."
   ]
  },
  {
   "cell_type": "code",
   "execution_count": null,
   "id": "74284fb0",
   "metadata": {},
   "outputs": [],
   "source": [
    "# 실습: 각 함수의 인자(shape, size 등)를 바꿔서 다양한 특별한 행렬을 만들어보세요.\n",
    "# 모든 요소가 0인 2x3 행렬을 생성합니다.\n",
    "Z = np.zeros((2, 3))\n",
    "print(\"2x3 영 행렬 (zeros):\\n\", Z)\n",
    "print(\"-\" * 20)\n",
    "\n",
    "# 3x3 단위 행렬을 생성합니다. (주대각선이 1이고 나머지는 0)\n",
    "I = np.identity(3)\n",
    "print(\"3x3 단위 행렬 (identity):\\n\", I)\n",
    "print(\"-\" * 20)\n",
    "\n",
    "# 주대각선에 특정 값을 가지는 대각 행렬을 생성합니다.\n",
    "D = np.diag([0.2, -3, 1.2])\n",
    "print(\"대각 행렬 (diag):\\n\", D)\n",
    "print(\"-\" * 20)\n",
    "\n",
    "# 0과 1 사이의 무작위 값으로 채워진 2x2 행렬을 생성합니다.\n",
    "R = np.random.rand(2, 2)\n",
    "print(\"2x2 랜덤 행렬 (random):\\n\", R)"
   ]
  },
  {
   "cell_type": "markdown",
   "id": "ba317d93",
   "metadata": {
    "cell_marker": "\"\"\""
   },
   "source": [
    "#### 행렬의 전치 (Transpose)\n",
    "전치 행렬은 원본 행렬의 행과 열을 서로 맞바꾼 행렬입니다. `.T` 속성으로 간단히 구할 수 있습니다.\n",
    "(m, n) 크기 행렬의 전치 행렬은 (n, m) 크기가 됩니다."
   ]
  },
  {
   "cell_type": "code",
   "execution_count": null,
   "id": "3a617591",
   "metadata": {},
   "outputs": [],
   "source": [
    "# 실습: 아래 A 행렬을 전치시키고, 원본과 모양(shape)을 비교해보세요.\n",
    "A_T = A.T\n",
    "print(\"원본 행렬 A:\\n\", A)\n",
    "print(f\"A.shape: {A.shape}\")\n",
    "print(\"-\" * 20)\n",
    "print(\"A의 전치 행렬 A.T:\\n\", A_T)\n",
    "print(f\"A.T.shape: {A_T.shape}\")"
   ]
  },
  {
   "cell_type": "markdown",
   "id": "f009b358",
   "metadata": {
    "cell_marker": "\"\"\""
   },
   "source": [
    "### 2.2. 행렬의 기본 연산\n",
    "\n",
    "#### 덧셈, 뺄셈, 스칼라 곱\n",
    "벡터와 마찬가지로, 크기가 같은 행렬끼리는 요소별 덧셈과 뺄셈이 가능하며, 스칼라 곱 또한 모든 요소에 적용됩니다."
   ]
  },
  {
   "cell_type": "code",
   "execution_count": null,
   "id": "dc7ed9f5",
   "metadata": {},
   "outputs": [],
   "source": [
    "# 실습: 행렬의 값을 바꾸거나, 스칼라 값을 바꿔서 연산 결과를 확인해보세요.\n",
    "# 연산을 쉽게 확인하기 위해 간단한 정수 행렬을 새로 정의합니다.\n",
    "A_add = np.array([\n",
    "    [10, 20, 30],\n",
    "    [40, 50, 60]\n",
    "])\n",
    "B_add = np.array([\n",
    "    [1, 2, 3],\n",
    "    [4, 5, 6]\n",
    "])\n",
    "\n",
    "print(\"행렬 A:\\n\", A_add)\n",
    "print(\"행렬 B:\\n\", B_add)\n",
    "print(\"-\" * 20)\n",
    "\n",
    "# 덧셈\n",
    "print(\"A + B:\\n\", A_add + B_add)\n",
    "print(\"-\" * 20)\n",
    "\n",
    "# 뺄셈\n",
    "print(\"A - B:\\n\", A_add - B_add)\n",
    "print(\"-\" * 20)\n",
    "\n",
    "# 스칼라 곱\n",
    "print(\"2 * A:\\n\", 2 * A_add)"
   ]
  },
  {
   "cell_type": "markdown",
   "id": "f05abfaf",
   "metadata": {
    "cell_marker": "\"\"\""
   },
   "source": [
    "### 2.3. 행렬 곱셈과 그 활용\n",
    "\n",
    "#### 행렬 곱셈 (Matrix-Matrix Multiplication)\n",
    "두 행렬의 곱셈 `C = AB`는 첫 번째 행렬 `A`의 열 개수와 두 번째 행렬 `B`의 행 개수가 같아야 가능합니다.\n",
    "(m, p) 크기 행렬과 (p, n) 크기 행렬을 곱하면 결과는 (m, n) 크기의 행렬이 됩니다.\n",
    "행렬 곱은 **선형 변환의 연속(합성)**을 의미하며, 교환 법칙(`AB != BA`)이 성립하지 않는다는 특징이 있습니다."
   ]
  },
  {
   "cell_type": "code",
   "execution_count": null,
   "id": "47730d0c",
   "metadata": {},
   "outputs": [],
   "source": [
    "# 실습: 두 행렬의 값을 바꿔보거나, 행렬의 크기를 바꿔서 곱셈을 시도해보세요.\n",
    "# (m, p) x (p, n) 크기의 행렬 곱셈\n",
    "A_mul = np.array([\n",
    "    [1, 2, 3],\n",
    "    [4, 5, 6]\n",
    "])\n",
    "B_mul = np.array([\n",
    "    [10, 11],\n",
    "    [20, 21],\n",
    "    [30, 31]\n",
    "])\n",
    "\n",
    "# 행렬 곱셈. A_mul의 열 수(3)와 B_mul의 행 수(3)가 같아야 합니다.\n",
    "C_mul = A_mul @ B_mul  # 결과는 (2, 2) 행렬\n",
    "\n",
    "print(\"행렬 A (2x3):\\n\", A_mul)\n",
    "print(\"행렬 B (3x2):\\n\", B_mul)\n",
    "print(\"-\" * 20)\n",
    "print(\"행렬 곱 AB:\\n\", C_mul)\n",
    "print(f\"AB의 크기: {C_mul.shape}\")"
   ]
  },
  {
   "cell_type": "markdown",
   "id": "6fb37fb8",
   "metadata": {
    "cell_marker": "\"\"\""
   },
   "source": [
    "#### 벡터의 외적 (Outer Product)\n",
    "두 벡터 `a`(크기 m)와 `b`(크기 n)의 외적은 `m x n` 크기의 행렬을 생성합니다.\n",
    "`a`의 각 요소와 `b`의 각 요소의 모든 조합을 곱한 행렬로, `np.outer(a, b)`로 계산합니다.\n",
    "외적은 두 벡터의 상호작용을 행렬로 표현하여, 데이터 분석이나 머신러닝 모델의 가중치 표현 등에서 활용됩니다."
   ]
  },
  {
   "cell_type": "code",
   "execution_count": null,
   "id": "086dc1a4",
   "metadata": {},
   "outputs": [],
   "source": [
    "# 실습: a_vec, b_vec의 값이나 크기를 바꿔보며 외적의 결과가 어떻게 변하는지 확인해보세요.\n",
    "a_vec = np.array([1, 2, 3])\n",
    "b_vec = np.array([10, 20])\n",
    "\n",
    "# np.outer() 함수를 사용하여 두 벡터의 외적을 계산합니다.\n",
    "outer_product = np.outer(a_vec, b_vec)\n",
    "\n",
    "print(\"벡터 a:\", a_vec)\n",
    "print(\"벡터 b:\", b_vec)\n",
    "print(\"-\" * 20)\n",
    "print(\"a와 b의 외적 (np.outer(a,b)):\\n\", outer_product)\n",
    "print(f\"외적 행렬의 크기: {outer_product.shape}\")"
   ]
  },
  {
   "cell_type": "markdown",
   "id": "19942af8",
   "metadata": {
    "cell_marker": "\"\"\""
   },
   "source": [
    "#### 활용 1: 기하 변환 (Geometric Transformations)\n",
    "행렬 곱셈은 벡터를 특정 방식으로 변환하는 강력한 도구입니다. 예를 들어, 2D 벡터를 `θ`만큼 **회전**시키는 변환은 아래와 같은 회전 행렬 `R`을 곱하여 수행할 수 있습니다.\n",
    "\n",
    "```\n",
    "      [ cos(θ)  -sin(θ) ]\n",
    "R =   [ sin(θ)   cos(θ) ]\n",
    "```\n",
    "\n",
    "`변환된 벡터 = R @ 원본 벡터`"
   ]
  },
  {
   "cell_type": "code",
   "execution_count": null,
   "id": "867b7369",
   "metadata": {},
   "outputs": [],
   "source": [
    "# 실습: 벡터 v의 값이나, 회전 각도 theta를 바꿔서 변환 결과를 확인해보세요.\n",
    "# 변환할 2D 벡터를 정의합니다.\n",
    "v = np.array([1, 0]) # x축 방향의 단위 벡터\n",
    "\n",
    "# 45도 회전을 위한 변환 행렬을 생성합니다.\n",
    "theta = np.radians(45)\n",
    "R_mat = np.array([[np.cos(theta), -np.sin(theta)],\n",
    "              [np.sin(theta),  np.cos(theta)]])\n",
    "\n",
    "# 회전 변환을 적용합니다.\n",
    "v_rotated = R_mat @ v\n",
    "\n",
    "print(\"원본 벡터 v:\", v)\n",
    "print(\"45도 회전 행렬 R:\\n\", np.round(R_mat, 2))\n",
    "print(\"회전된 벡터 v_rotated:\", np.round(v_rotated, 2))"
   ]
  },
  {
   "cell_type": "code",
   "execution_count": null,
   "id": "5b91a631",
   "metadata": {},
   "outputs": [],
   "source": [
    "# 시각화\n",
    "origin = np.array([0, 0])\n",
    "\n",
    "all_points_x_rot = [0, v[0], v_rotated[0]]\n",
    "all_points_y_rot = [0, v[1], v_rotated[1]]\n",
    "\n",
    "plt.figure(figsize=(6,6))\n",
    "plt.quiver(*origin, *v, angles='xy', scale_units='xy', scale=1, color='r', label=f'Original v = {v}')\n",
    "plt.quiver(*origin, *v_rotated, angles='xy', scale_units='xy', scale=1, color='g', label=f'Rotated v = ({v_rotated[0]:.2f}, {v_rotated[1]:.2f})')\n",
    "\n",
    "# 동적으로 계산된 범위에 여백을 주어 x, y축 범위를 설정합니다.\n",
    "plt.xlim(min(all_points_x_rot) - 1, max(all_points_x_rot) + 1)\n",
    "plt.ylim(min(all_points_y_rot) - 1, max(all_points_y_rot) + 1)\n",
    "\n",
    "plt.title('Geometric Transformation (Rotation)')\n",
    "plt.xlabel('x-axis')\n",
    "plt.ylabel('y-axis')\n",
    "plt.grid()\n",
    "plt.legend()\n",
    "plt.gca().set_aspect('equal', adjustable='box')\n",
    "plt.show()"
   ]
  },
  {
   "cell_type": "markdown",
   "id": "6a332615",
   "metadata": {
    "cell_marker": "\"\"\""
   },
   "source": [
    "#### 활용 2: 선형 변환의 합성 (Composition)\n",
    "두 가지 선형 변환을 연속으로 적용하는 것은, 각 변환에 해당하는 두 행렬을 먼저 곱하여 얻은 **합성 행렬**을 한 번 적용하는 것과 같습니다.\n",
    "예를 들어, 30도 회전 후 60도 회전을 적용하는 것은, 90도 회전 행렬을 한 번 적용하는 것과 동일합니다.\n",
    "\n",
    "`(R_60 @ R_30) @ v = R_60 @ (R_30 @ v)`"
   ]
  },
  {
   "cell_type": "code",
   "execution_count": null,
   "id": "1925c3e3",
   "metadata": {},
   "outputs": [],
   "source": [
    "# 실습: 벡터 v_comp의 값이나, 두 회전 각도를 바꿔보며 결과를 확인해보세요.\n",
    "# 원본 벡터를 정의합니다.\n",
    "v_comp = np.array([2, 1])\n",
    "\n",
    "# 30도 회전 변환\n",
    "theta_30 = np.radians(30)\n",
    "R_30 = np.array([[np.cos(theta_30), -np.sin(theta_30)],\n",
    "                 [np.sin(theta_30),  np.cos(theta_30)]])\n",
    "\n",
    "# 60도 회전 변환\n",
    "theta_60 = np.radians(60)\n",
    "R_60 = np.array([[np.cos(theta_60), -np.sin(theta_60)],\n",
    "                 [np.sin(theta_60),  np.cos(theta_60)]])\n",
    "\n",
    "# 방법 1: 변환을 순차적으로 적용합니다 (30도 회전 후 60도 회전).\n",
    "v_rotated_seq = R_60 @ (R_30 @ v_comp)\n",
    "\n",
    "# 방법 2: 변환 행렬을 먼저 곱하여 합성한 후, 한 번에 적용합니다.\n",
    "R_90 = R_60 @ R_30\n",
    "v_rotated_combined = R_90 @ v_comp\n",
    "\n",
    "print(\"원본 벡터:\", v_comp)\n",
    "print(\"-\" * 20)\n",
    "print(f\"순차 변환 결과 (30도 -> 60도):\\n\", np.round(v_rotated_seq, 2))\n",
    "print(f\"합성 변환 결과 (90도):\\n\", np.round(v_rotated_combined, 2))"
   ]
  },
  {
   "cell_type": "markdown",
   "id": "e1b3bd4d",
   "metadata": {
    "cell_marker": "\"\"\""
   },
   "source": [
    "### 2.4. 역행렬과 행렬식\n",
    "\n",
    "#### 역행렬 (Matrix Inverse)\n",
    "어떤 정방 행렬(square matrix) `A`에 대해, 곱했을 때 단위 행렬(`I`)이 되는 행렬 `B`가 존재한다면, `B`를 `A`의 **역행렬(inverse matrix)**이라 부르고 `A⁻¹`로 표기합니다.\n",
    "\n",
    "`A @ A⁻¹ = A⁻¹ @ A = I`\n",
    "\n",
    "역행렬은 어떤 변환을 '되돌리는'(undo) 변환에 해당하며, 연립 방정식을 푸는 데 핵심적인 역할을 합니다.\n",
    "**모든 정방 행렬이 역행렬을 갖는 것은 아닙니다.**\n",
    "\n",
    "- `np.linalg.inv()` 함수로 역행렬을 계산할 수 있습니다."
   ]
  },
  {
   "cell_type": "code",
   "execution_count": null,
   "id": "1de78e31",
   "metadata": {},
   "outputs": [],
   "source": [
    "# 실습: 아래 행렬 A_inv_source의 값을 바꿔보며 역행렬을 계산해보세요.\n",
    "# 역행렬을 계산할 2x2 정방 행렬 정의\n",
    "A_inv_source = np.array([\n",
    "    [1, 1],\n",
    "    [1, 2]\n",
    "])\n",
    "\n",
    "# 역행렬 계산\n",
    "try:\n",
    "    A_inverse = np.linalg.inv(A_inv_source)\n",
    "    print(\"원본 행렬 A:\\n\", A_inv_source)\n",
    "    print(\"-\" * 20)\n",
    "    print(\"A의 역행렬 A⁻¹:\\n\", A_inverse)\n",
    "    print(\"-\" * 20)\n",
    "\n",
    "    # A @ A⁻¹가 단위 행렬인지 확인 (부동소수점 오차를 고려)\n",
    "    identity_check = A_inv_source @ A_inverse\n",
    "    print(\"A @ A⁻¹ 결과:\\n\", identity_check)\n",
    "\n",
    "    # np.allclose()를 이용한 단위 행렬 검증\n",
    "    is_identity = np.allclose(identity_check, np.identity(2))\n",
    "    print(f\"\\n결과가 단위 행렬과 매우 가깝습니까? -> {is_identity}\")\n",
    "\n",
    "except np.linalg.LinAlgError as e:\n",
    "    print(\"오류:\", e)\n",
    "    print(\"이 행렬은 역행렬을 가지지 않습니다 (특이 행렬).\")"
   ]
  },
  {
   "cell_type": "markdown",
   "id": "e0a39c6e",
   "metadata": {
    "cell_marker": "\"\"\""
   },
   "source": [
    "#### 행렬식 (Determinant)\n",
    "행렬식은 정방 행렬이 갖는 고유한 스칼라 값으로, `np.linalg.det()`으로 계산합니다.\n",
    "기하학적으로 행렬이 변환시키는 공간의 '부피'가 얼마나 변하는지를 나타냅니다.\n",
    "\n",
    "- **`det(A) ≠ 0`**: 행렬 `A`는 역행렬을 가집니다 (가역 행렬, Invertible).\n",
    "- **`det(A) = 0`**: 행렬 `A`는 역행렬을 가지지 않습니다 (특이 행렬, Singular).\n",
    "\n",
    "따라서 행렬식은 역행렬의 존재 여부를 판별하는 중요한 지표입니다."
   ]
  },
  {
   "cell_type": "code",
   "execution_count": null,
   "id": "fb5dd36e",
   "metadata": {},
   "outputs": [],
   "source": [
    "# 실습: A_inv_source의 행렬식을 계산해보고, 아래 특이 행렬의 행렬식과 비교해보세요.\n",
    "# 가역 행렬 (Invertible Matrix)\n",
    "det_A = np.linalg.det(A_inv_source)\n",
    "print(f\"가역 행렬 A:\\n{A_inv_source}\")\n",
    "print(f\"A의 행렬식: {det_A:.1f}\")\n",
    "print(\"-\" * 20)\n",
    "\n",
    "# 특이 행렬 (Singular Matrix)\n",
    "singular_matrix_det_check = np.array([\n",
    "    [1, 2],\n",
    "    [2, 4]\n",
    "])\n",
    "det_S = np.linalg.det(singular_matrix_det_check)\n",
    "print(f\"특이 행렬 S:\\n{singular_matrix_det_check}\")\n",
    "print(f\"S의 행렬식: {det_S:.1f}\")"
   ]
  },
  {
   "cell_type": "markdown",
   "id": "44ae106b",
   "metadata": {
    "cell_marker": "\"\"\""
   },
   "source": [
    "#### 역행렬 계산 시도와 특이 행렬\n",
    "역행렬이 존재하지 않는 **특이 행렬(Singular Matrix)**에 `np.linalg.inv()`를 사용하면 `LinAlgError`가 발생합니다."
   ]
  },
  {
   "cell_type": "code",
   "execution_count": null,
   "id": "9e39b711",
   "metadata": {},
   "outputs": [],
   "source": [
    "# 실습: 특이 행렬에 역행렬 계산을 시도하면 LinAlgError가 발생하는 것을 확인합니다.\n",
    "singular_matrix = np.array([\n",
    "    [1, 2],\n",
    "    [2, 4]\n",
    "])\n",
    "\n",
    "print(\"특이 행렬 B:\\n\", singular_matrix)\n",
    "print(\"-\" * 20)\n",
    "\n",
    "# 역행렬 계산 시도\n",
    "try:\n",
    "    B_inverse = np.linalg.inv(singular_matrix)\n",
    "    print(\"B의 역행렬:\\n\", B_inverse)\n",
    "except np.linalg.LinAlgError as e:\n",
    "    print(\"np.linalg.inv(B) 실행 시 오류 발생:\")\n",
    "    print(f\"-> {e}\")"
   ]
  }
 ],
 "metadata": {
  "jupytext": {
   "cell_metadata_filter": "-all",
   "main_language": "python",
   "notebook_metadata_filter": "-all"
  }
 },
 "nbformat": 4,
 "nbformat_minor": 5
}
