{
 "cells": [
  {
   "cell_type": "markdown",
   "id": "9a2da264",
   "metadata": {
    "cell_marker": "\"\"\""
   },
   "source": [
    "# K-means Clustering Practice"
   ]
  },
  {
   "cell_type": "markdown",
   "id": "bd4ea6d7",
   "metadata": {
    "cell_marker": "\"\"\""
   },
   "source": [
    "### 준비하기: 라이브러리 설치 및 불러오기"
   ]
  },
  {
   "cell_type": "code",
   "execution_count": null,
   "id": "ca05216a",
   "metadata": {},
   "outputs": [],
   "source": [
    "# --- 라이브러리 설치 ---\n",
    "import subprocess\n",
    "import sys\n",
    "\n",
    "def install_if_not_exists(package):\n",
    "    try:\n",
    "        __import__(package)\n",
    "    except ImportError:\n",
    "        subprocess.check_call([sys.executable, \"-m\", \"pip\", \"install\", package])\n",
    "\n",
    "install_if_not_exists(\"numpy\")\n",
    "install_if_not_exists(\"matplotlib\")\n",
    "install_if_not_exists(\"sklearn\")\n",
    "install_if_not_exists(\"pandas\")\n",
    "\n",
    "\n",
    "# --- 라이브러리 불러오기 ---\n",
    "import numpy as np\n",
    "import matplotlib.pyplot as plt\n",
    "from sklearn.cluster import KMeans\n",
    "from sklearn.datasets import make_blobs, make_circles"
   ]
  },
  {
   "cell_type": "markdown",
   "id": "71a438da",
   "metadata": {
    "cell_marker": "\"\"\""
   },
   "source": [
    "---\n",
    "## Part 1: K-means 기본 원리\n",
    "---"
   ]
  },
  {
   "cell_type": "markdown",
   "id": "6b29655a",
   "metadata": {
    "cell_marker": "\"\"\""
   },
   "source": [
    "### 1.1. 기본 원리 학습용 데이터 생성 및 시각화\n",
    "K-means 알고리즘을 시각적으로 이해하기 위해, `make_blobs` 함수를 사용하여 명확하게 구분된 데이터 군집을 생성하고 시각화합니다."
   ]
  },
  {
   "cell_type": "code",
   "execution_count": null,
   "id": "fdff3677",
   "metadata": {
    "lines_to_next_cell": 2
   },
   "outputs": [],
   "source": [
    "# 실습: n_samples, centers, cluster_std 값을 바꿔보며 데이터 분포가 어떻게 변하는지 확인해보세요.\n",
    "X, y_true = make_blobs(n_samples=300, centers=4,\n",
    "                       cluster_std=0.60, random_state=0)\n",
    "\n",
    "plt.figure(figsize=(8, 6))\n",
    "plt.scatter(X[:, 0], X[:, 1], s=50)\n",
    "plt.title(\"Generated Data for Clustering\")\n",
    "plt.xlabel(\"Feature 1\")\n",
    "plt.ylabel(\"Feature 2\")\n",
    "plt.grid()\n",
    "plt.show()"
   ]
  },
  {
   "cell_type": "markdown",
   "id": "86d3bfe1",
   "metadata": {
    "cell_marker": "\"\"\""
   },
   "source": [
    "### 1.2. K-means 모델 학습 및 결과 시각화\n",
    "`sklearn.cluster.KMeans`를 사용하여 모델을 학습하고, 군집화 결과를 시각화합니다.\n",
    "K-means는 각 데이터 포인트를 가장 가까운 군집 중심에 할당하는 방식으로 동작하며, 결과적으로 데이터가 4개의 그룹으로 잘 나뉘는 것을 볼 수 있습니다."
   ]
  },
  {
   "cell_type": "code",
   "execution_count": null,
   "id": "e18d18c9",
   "metadata": {},
   "outputs": [],
   "source": [
    "# 실습: n_clusters 값을 실제 클러스터 개수인 4가 아닌 다른 값(예: 3, 5)으로 바꿔보세요.\n",
    "#       결과가 어떻게 달라지는지 관찰하고, K값 설정의 중요성에 대해 생각해보세요.\n",
    "kmeans = KMeans(n_clusters=4, init='k-means++', n_init=10, random_state=0)\n",
    "y_kmeans = kmeans.fit_predict(X)\n",
    "\n",
    "plt.figure(figsize=(10, 7))\n",
    "plt.scatter(X[:, 0], X[:, 1], c=y_kmeans, s=50, cmap='viridis')\n",
    "centers = kmeans.cluster_centers_\n",
    "plt.scatter(centers[:, 0], centers[:, 1], c='red', s=200, alpha=0.75, marker='X', label='Centroids')\n",
    "plt.title(\"K-Means Clustering Results\")\n",
    "plt.xlabel(\"Feature 1\")\n",
    "plt.ylabel(\"Feature 2\")\n",
    "plt.legend()\n",
    "plt.grid()\n",
    "plt.show()"
   ]
  },
  {
   "cell_type": "markdown",
   "id": "c460eb21",
   "metadata": {
    "cell_marker": "\"\"\""
   },
   "source": [
    "---\n",
    "## Part 2: K-means 적용 사례 (MNIST)\n",
    "---"
   ]
  },
  {
   "cell_type": "markdown",
   "id": "5f688449",
   "metadata": {
    "cell_marker": "\"\"\""
   },
   "source": [
    "### 2.1. MNIST 데이터에 K-means 적용 및 중심 시각화\n",
    "실제 데이터인 MNIST 손글씨 숫자 데이터셋에 K-means를 적용합니다. 784차원의 픽셀 데이터를 10개의 클러스터(0~9 숫자)로 그룹화하고, 학습된 각 클러스터의 중심(Centroid)을 시각화합니다.\n",
    "이는 각 클러스터를 대표하는 '평균적인' 숫자 이미지를 보여줍니다.\n",
    "\n",
    "**중요**: K-means는 비지도 학습이므로, 클러스터의 레이블(예: 'Cluster 0')이 실제 숫자의 레이블(예: '0')과 일치하지는 않습니다."
   ]
  },
  {
   "cell_type": "code",
   "execution_count": null,
   "id": "8a926071",
   "metadata": {},
   "outputs": [],
   "source": [
    "with np.load('mnist.npz') as data:\n",
    "    X_mnist = data['X']\n",
    "    y_mnist = data['y']\n",
    "\n",
    "print(f\"데이터 크기: {X_mnist.shape}\")\n",
    "\n",
    "# n_init=1: 1번의 초기값으로 실행합니다.\n",
    "# verbose=1: 학습 진행 상황을 출력하여 실시간으로 확인합니다.\n",
    "mnist_kmeans = KMeans(n_clusters=10, init='k-means++', n_init=1, random_state=0, verbose=1)\n",
    "mnist_kmeans.fit(X_mnist)\n",
    "\n",
    "# 클러스터 중심(Centroid) 시각화\n",
    "centroids_mnist = mnist_kmeans.cluster_centers_\n",
    "\n",
    "fig, ax = plt.subplots(2, 5, figsize=(10, 5))\n",
    "for i, centroid in enumerate(centroids_mnist):\n",
    "    img = centroid.reshape(28, 28)\n",
    "    row = i // 5\n",
    "    col = i % 5\n",
    "    ax[row, col].imshow(img, cmap='gray')\n",
    "    ax[row, col].set_title(f'Cluster {i}')\n",
    "    ax[row, col].axis('off')\n",
    "\n",
    "plt.suptitle(\"MNIST K-Means Centroids\", fontsize=16)\n",
    "plt.tight_layout()\n",
    "plt.show()"
   ]
  },
  {
   "cell_type": "markdown",
   "id": "06e0fb8d",
   "metadata": {
    "cell_marker": "\"\"\""
   },
   "source": [
    "---\n",
    "## Part 3: K-means의 한계와 피처 변환\n",
    "---\n",
    "K-means는 군집이 구형(spherical)이며, 중심점으로부터의 거리로 잘 구분될 것을 가정합니다.\n",
    "이 가정이 깨지는 데이터에서는 잘 동작하지 않습니다. 이 한계를 확인하고, 피처 변환을 통해 해결해봅니다."
   ]
  },
  {
   "cell_type": "markdown",
   "id": "0f728e30",
   "metadata": {
    "cell_marker": "\"\"\""
   },
   "source": [
    "### 3.1. 실패 사례: 동심원 데이터에 K-means 적용\n",
    "`make_circles`로 생성된 동심원 데이터에 K-means를 적용하면, 거리 기반 군집화의 한계로 인해 올바르게 분류하지 못합니다."
   ]
  },
  {
   "cell_type": "code",
   "execution_count": null,
   "id": "21915af1",
   "metadata": {},
   "outputs": [],
   "source": [
    "# 동심원 데이터 생성\n",
    "# 실습: n_samples, centers, cluster_std 값을 바꿔보며 데이터 분포가 어떻게 변하는지 확인해보세요.\n",
    "X_circles, y_circles = make_circles(n_samples=500, factor=0.5, noise=0.05, random_state=0)\n",
    "\n",
    "# 1. 원본 데이터에 K-means 적용 (실패 사례)\n",
    "kmeans_fail = KMeans(n_clusters=2, init='k-means++', n_init=1, random_state=0)\n",
    "y_kmeans_fail = kmeans_fail.fit_predict(X_circles)\n",
    "\n",
    "plt.figure(figsize=(8, 6))\n",
    "plt.scatter(X_circles[:, 0], X_circles[:, 1], c=y_kmeans_fail, s=50, cmap='viridis')\n",
    "plt.title('K-Means Fails on Concentric Circles')\n",
    "# 가로, 세로 비율을 동일하게 설정하여 원이 제대로 보이게 합니다.\n",
    "plt.gca().set_aspect('equal', adjustable='box')\n",
    "plt.grid()\n",
    "plt.show()"
   ]
  },
  {
   "cell_type": "markdown",
   "id": "a6eb2112",
   "metadata": {
    "cell_marker": "\"\"\""
   },
   "source": [
    "### 3.2. 해결책: 피처 변환 및 K-means 재적용\n",
    "데이터의 표현 방식을 바꾸어 K-means가 인식할 수 있는 형태로 만들어줍니다. 기존의 (x, y) 직교 좌표계를 **거리(r)**와 **각도(θ)**를 나타내는 **극 좌표계**로 변환합니다.\n",
    "변환된 좌표계에서는 거리(r) 값만으로도 두 군집이 명확하게 구분되어, K-means가 성공적으로 동작합니다."
   ]
  },
  {
   "cell_type": "code",
   "execution_count": null,
   "id": "172afe09",
   "metadata": {},
   "outputs": [],
   "source": [
    "# 2. 피처 변환: 직교 좌표계 -> 극 좌표계\n",
    "r = np.sqrt(X_circles[:, 0] ** 2 + X_circles[:, 1] ** 2)\n",
    "theta = np.arctan2(X_circles[:, 1], X_circles[:, 0])\n",
    "\n",
    "# 변환된 데이터를 시각화하여 구조를 확인합니다.\n",
    "plt.figure(figsize=(8, 6))\n",
    "plt.scatter(theta, r, c=y_circles, s=50, cmap='viridis')\n",
    "plt.title('Transformed Data (Polar Coordinates)')\n",
    "plt.xlabel('Theta (angle)')\n",
    "plt.ylabel('R (distance from origin)')\n",
    "plt.grid()\n",
    "plt.show()\n",
    "\n",
    "# 3. 변환된 데이터(거리 r)에 K-means 적용 (성공 사례)\n",
    "# r.reshape(-1, 1)는 1차원 배열 r을 2차원 열 벡터로 변환합니다.\n",
    "kmeans_success = KMeans(n_clusters=2, init='k-means++', n_init=1, random_state=0)\n",
    "y_kmeans_success = kmeans_success.fit_predict(r.reshape(-1, 1))\n",
    "\n",
    "# 피처 변환 후 K-means가 성공적으로 분류한 결과를 원본 데이터에 시각화합니다.\n",
    "plt.figure(figsize=(8, 6))\n",
    "plt.scatter(X_circles[:, 0], X_circles[:, 1], c=y_kmeans_success, s=50, cmap='viridis')\n",
    "plt.title('K-Means Succeeds After Feature Transformation')\n",
    "# 가로, 세로 비율을 동일하게 설정하여 원이 제대로 보이게 합니다.\n",
    "plt.gca().set_aspect('equal', adjustable='box')\n",
    "plt.grid()\n",
    "plt.show()"
   ]
  }
 ],
 "metadata": {
  "jupytext": {
   "cell_metadata_filter": "-all",
   "main_language": "python",
   "notebook_metadata_filter": "-all"
  }
 },
 "nbformat": 4,
 "nbformat_minor": 5
}
